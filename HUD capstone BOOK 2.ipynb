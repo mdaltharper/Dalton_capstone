{
 "cells": [
  {
   "cell_type": "code",
   "execution_count": 46,
   "id": "9e2466cd",
   "metadata": {},
   "outputs": [],
   "source": [
    "import pandas as pd\n",
    "import sqlite3"
   ]
  },
  {
   "cell_type": "code",
   "execution_count": 47,
   "id": "28ae7333",
   "metadata": {},
   "outputs": [
    {
     "name": "stderr",
     "output_type": "stream",
     "text": [
      "C:\\Users\\mdalt\\AppData\\Local\\Temp\\ipykernel_34900\\3972625611.py:2: DtypeWarning: Columns (2,19,22,35,36,41,89,90,91,92,95,103,109,111,121,123,125,126,127,164,169,170,176,205,209,217,274) have mixed types. Specify dtype option on import or set low_memory=False.\n",
      "  huddf = pd.read_csv('data/hud_insured_multifamily.csv')\n"
     ]
    }
   ],
   "source": [
    "#Load the CSV file\n",
    "huddf = pd.read_csv('data/hud_insured_multifamily.csv')"
   ]
  },
  {
   "cell_type": "code",
   "execution_count": 48,
   "id": "7a7cdf9b",
   "metadata": {},
   "outputs": [],
   "source": [
    "# Data cleaning\n",
    "huddf = huddf.drop(columns=[\"PROJECT_MANAGER_NAME_TEXT\", \"AUTOMATIC_GEOCODE_IND\"])\n",
    "huddf = huddf[[\"STD_CITY\",\"PROPERTY_ID\",\"PROPERTY_CATEGORY_NAME\",\"PROPERTY_NAME_TEXT\"]]\n",
    "huddf.to_csv('data/hud_insured_multifamily_cle.csv', index=False)\n"
   ]
  },
  {
   "cell_type": "code",
   "execution_count": 49,
   "id": "f81f278d",
   "metadata": {},
   "outputs": [],
   "source": [
    "# Connect to a SQLite database\n",
    "conn = sqlite3.connect('database.db')\n"
   ]
  },
  {
   "cell_type": "code",
   "execution_count": 50,
   "id": "aafe2e6a",
   "metadata": {},
   "outputs": [],
   "source": [
    "# TABLE command\n",
    "create_table_command = \"\"\"\n",
    "CREATE TABLE IF NOT EXISTS HUD_Insured_Multifamily (\n",
    "    STD_CITY,\n",
    "    PROPERTY_ID,\n",
    "    PROPERTY_CATEGORY_NAME,\n",
    "    Property_NAME_TEXT \n",
    ")\n",
    "\"\"\"\n",
    "conn.execute(create_table_command)\n",
    "conn.commit()"
   ]
  },
  {
   "cell_type": "code",
   "execution_count": 51,
   "id": "3315a2d6",
   "metadata": {},
   "outputs": [],
   "source": [
    "# Function to insert values from CSV to the table\n",
    "def insert_values_from_csv(conn, csv_file_path):\n",
    "    df = pd.read_csv(csv_file_path)\n",
    "    df.to_sql('HUD_Insured_Multifamily', conn, if_exists='replace', index=False)\n"
   ]
  },
  {
   "cell_type": "code",
   "execution_count": 52,
   "id": "76bf8fd9",
   "metadata": {},
   "outputs": [],
   "source": [
    "# Insert values into the table from a CSV file\n",
    "insert_values_from_csv(conn, 'data/hud_insured_multifamily_cle.csv')"
   ]
  },
  {
   "cell_type": "code",
   "execution_count": 53,
   "id": "5a6ea51e",
   "metadata": {},
   "outputs": [
    {
     "name": "stdout",
     "output_type": "stream",
     "text": [
      "                           STD_CITY  PROPERTY_ID PROPERTY_CATEGORY_NAME  \\\n",
      "0      Pennington                    800225589.0   Insured-Unsubsidized   \n",
      "1      White Settlement              800225933.0   Insured-Unsubsidized   \n",
      "2      Carlinville                   800225983.0   Insured-Unsubsidized   \n",
      "3      Grand Coulee                  800226573.0   Insured-Unsubsidized   \n",
      "4      Vidalia                       800226611.0   Insured-Unsubsidized   \n",
      "...                             ...          ...                    ...   \n",
      "16519  Maplewood                     800254374.0   Insured-Unsubsidized   \n",
      "16520  Garland                       800255132.0   Insured-Unsubsidized   \n",
      "16521  Pleasant Hill                 800255134.0   Insured-Unsubsidized   \n",
      "16522  Grasonville                   800255144.0   Insured-Unsubsidized   \n",
      "16523  Southgate                     800255510.0   Insured-Unsubsidized   \n",
      "\n",
      "                               PROPERTY_NAME_TEXT  \n",
      "0                           Capital Health System  \n",
      "1       Oak Timbers - White Settlement Apartments  \n",
      "2                                     Carlinville  \n",
      "3                       Coulee Community Hospital  \n",
      "4                 Meadows Regional Medical Center  \n",
      "...                                           ...  \n",
      "16519                             Maplewood Lofts  \n",
      "16520              Urban Village at Rosehill City  \n",
      "16521                       Yellowbanks by Kading  \n",
      "16522                        Slippery Hill Senior  \n",
      "16523  REDWOOD SOUTHGATE (ALLEN RD MI P2) - PHASE  \n",
      "\n",
      "[16524 rows x 4 columns]\n"
     ]
    }
   ],
   "source": [
    "# Query the table and print the result\n",
    "table = pd.read_sql_query(\"SELECT * FROM HUD_Insured_Multifamily\", conn)\n",
    "print(table)"
   ]
  },
  {
   "cell_type": "code",
   "execution_count": null,
   "id": "f5ff6342",
   "metadata": {},
   "outputs": [],
   "source": []
  },
  {
   "cell_type": "code",
   "execution_count": 54,
   "id": "90c56172",
   "metadata": {},
   "outputs": [],
   "source": [
    "# Prepare for answering the questions\n",
    "answers = []"
   ]
  },
  {
   "cell_type": "code",
   "execution_count": 55,
   "id": "832a4c26",
   "metadata": {},
   "outputs": [],
   "source": [
    "# What city has the most properties?\n",
    "cursor = conn.execute(\"SELECT STD_CITY, COUNT(*) FROM HUD_Insured_Multifamily GROUP BY STD_CITY ORDER BY COUNT(*) DESC LIMIT 1\")\n",
    "answers.append(f\"City with most properties: {cursor.fetchone()}\")\n"
   ]
  },
  {
   "cell_type": "code",
   "execution_count": 56,
   "id": "fb700dc6",
   "metadata": {},
   "outputs": [],
   "source": [
    "# How many property names start with the letter 'H'\n",
    "cursor = conn.execute(\"SELECT COUNT(*) FROM HUD_Insured_Multifamily WHERE Property_NAME_TEXT LIKE 'H%'\")\n",
    "answers.append(f\"Properties starting with 'H': {cursor.fetchone()[0]}\")\n"
   ]
  },
  {
   "cell_type": "code",
   "execution_count": 57,
   "id": "cc248493",
   "metadata": {},
   "outputs": [],
   "source": [
    "# What % of the properties in the property category is 'Insured-Unsubsidized'\n",
    "cursor = conn.execute(\"SELECT COUNT(*) FROM HUD_Insured_Multifamily WHERE PROPERTY_CATEGORY_NAME = 'Insured-Unsubsidized'\")\n",
    "total_count = cursor.fetchone()[0]\n",
    "cursor = conn.execute(\"SELECT COUNT(*) FROM HUD_Insured_Multifamily\")\n",
    "overall_count = cursor.fetchone()[0]\n",
    "percentage = (total_count / overall_count) * 100 if overall_count > 0 else 0\n",
    "answers.append(f\"Percentage of 'Insured-Unsubsidized': {percentage:.2f}%\")"
   ]
  },
  {
   "cell_type": "code",
   "execution_count": 58,
   "id": "46521598",
   "metadata": {},
   "outputs": [],
   "source": [
    "# How many unique property id are there in this data set\n",
    "cursor = conn.execute(\"SELECT COUNT(DISTINCT PROPERTY_ID) FROM HUD_Insured_Multifamily\")\n",
    "answers.append(f\"Unique property IDs: {cursor.fetchone()[0]}\")"
   ]
  },
  {
   "cell_type": "code",
   "execution_count": 59,
   "id": "f9bbe212",
   "metadata": {},
   "outputs": [],
   "source": [
    "# Close the connection\n",
    "conn.close()"
   ]
  },
  {
   "cell_type": "code",
   "execution_count": 60,
   "id": "0dcf027d",
   "metadata": {},
   "outputs": [],
   "source": [
    "# Combine questions and answers into a DataFrame\n",
    "qa_df = pd.DataFrame({\n",
    "    \"Questions\": [\n",
    "        \"What city has the most properties?\",\n",
    "        \"How many property names start with the letter 'H'\",\n",
    "        \"What % of the properties in the property category is 'Insured-Unsubsidized'\",\n",
    "        \"How many unique property IDs are there in this data set\"\n",
    "    ],\n",
    "    \"Answers\": answers\n",
    "})"
   ]
  },
  {
   "cell_type": "code",
   "execution_count": 61,
   "id": "09d8af00",
   "metadata": {},
   "outputs": [],
   "source": [
    "# Export the DataFrame to a CSV file\n",
    "qa_df.to_csv(r'data/Questions_and_Answers.csv', index=False)"
   ]
  },
  {
   "cell_type": "code",
   "execution_count": 62,
   "id": "46d1ece6",
   "metadata": {},
   "outputs": [
    {
     "name": "stdout",
     "output_type": "stream",
     "text": [
      "                                           Questions  \\\n",
      "0                 What city has the most properties?   \n",
      "1  How many property names start with the letter 'H'   \n",
      "2  What % of the properties in the property categ...   \n",
      "3  How many unique property IDs are there in this...   \n",
      "\n",
      "                                             Answers  \n",
      "0  City with most properties: ('Chicago          ...  \n",
      "1                  Properties starting with 'H': 801  \n",
      "2       Percentage of 'Insured-Unsubsidized': 68.70%  \n",
      "3                         Unique property IDs: 16523  \n"
     ]
    }
   ],
   "source": [
    "print(qa_df)"
   ]
  },
  {
   "cell_type": "code",
   "execution_count": null,
   "id": "2dc6906e",
   "metadata": {},
   "outputs": [],
   "source": []
  }
 ],
 "metadata": {
  "kernelspec": {
   "display_name": "Python 3 (ipykernel)",
   "language": "python",
   "name": "python3"
  },
  "language_info": {
   "codemirror_mode": {
    "name": "ipython",
    "version": 3
   },
   "file_extension": ".py",
   "mimetype": "text/x-python",
   "name": "python",
   "nbconvert_exporter": "python",
   "pygments_lexer": "ipython3",
   "version": "3.11.7"
  }
 },
 "nbformat": 4,
 "nbformat_minor": 5
}
