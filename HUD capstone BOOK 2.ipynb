{
 "cells": [
  {
   "cell_type": "code",
   "execution_count": 69,
   "id": "9e2466cd",
   "metadata": {},
   "outputs": [],
   "source": [
    "import pandas as pd\n",
    "import sqlite3\n",
    "import json\n",
    "import os\n",
    "import re\n",
    "from typing import Any\n",
    "import requests\n",
    "from bs4 import BeautifulSoup, ResultSet\n",
    "from copy import deepcopy\n",
    "from IPython.display import HTML, display\n",
    "from pathlib import Path\n",
    "from pinecone import ServerlessSpec\n",
    "from pinecone.grpc import PineconeGRPC\n",
    "from langchain.document_loaders import TextLoader\n",
    "from llama_index.core.indices.vector_store.base import VectorStoreIndex\n",
    "from llama_index.core.readers import download_loader\n",
    "from llama_index.core.ingestion.pipeline import IngestionPipeline\n",
    "from llama_index.core.node_parser import SemanticSplitterNodeParser\n",
    "from llama_index.core.query_engine import RetrieverQueryEngine\n",
    "from llama_index.core.retrievers import VectorIndexRetriever\n",
    "from llama_index.core.schema import Document, TransformComponent\n",
    "from llama_index.embeddings.openai import OpenAIEmbedding\n",
    "from llama_index.readers.file import PDFReader\n",
    "from llama_index.vector_stores.pinecone import PineconeVectorStore\n",
    "from unstructured.partition.pdf import partition_pdf\n",
    "from openai import OpenAI\n",
    "\n",
    "\n"
   ]
  },
  {
   "cell_type": "code",
   "execution_count": 64,
   "id": "8957bc09",
   "metadata": {},
   "outputs": [],
   "source": [
    "!pip install -qU \\\n",
    "    \"pinecone-client[grpc]\"==3.2.2 \\\n",
    "    \"unstructured[pdf]\"==0.12.4 \\\n",
    "    langchain==0.1.9 \\\n",
    "    llama-index==0.10.23 \\\n",
    "    llama-index-vector-stores-pinecone==0.1.4 \\\n",
    "    pillow==10.0.0 \\\n",
    "    poppler-utils==0.1.0 \\\n",
    "    pytesseract==0.3.10"
   ]
  },
  {
   "cell_type": "markdown",
   "id": "5bbd0dae",
   "metadata": {},
   "source": [
    "## Load + Clean +SQL Queries + Question and Answers"
   ]
  },
  {
   "cell_type": "code",
   "execution_count": 47,
   "id": "28ae7333",
   "metadata": {},
   "outputs": [
    {
     "name": "stderr",
     "output_type": "stream",
     "text": [
      "C:\\Users\\mdalt\\AppData\\Local\\Temp\\ipykernel_34900\\3972625611.py:2: DtypeWarning: Columns (2,19,22,35,36,41,89,90,91,92,95,103,109,111,121,123,125,126,127,164,169,170,176,205,209,217,274) have mixed types. Specify dtype option on import or set low_memory=False.\n",
      "  huddf = pd.read_csv('data/hud_insured_multifamily.csv')\n"
     ]
    }
   ],
   "source": [
    "#Load the CSV file\n",
    "huddf = pd.read_csv('data/hud_insured_multifamily.csv')"
   ]
  },
  {
   "cell_type": "code",
   "execution_count": 48,
   "id": "7a7cdf9b",
   "metadata": {},
   "outputs": [],
   "source": [
    "# Data cleaning\n",
    "huddf = huddf.drop(columns=[\"PROJECT_MANAGER_NAME_TEXT\", \"AUTOMATIC_GEOCODE_IND\"])\n",
    "huddf = huddf[[\"STD_CITY\",\"PROPERTY_ID\",\"PROPERTY_CATEGORY_NAME\",\"PROPERTY_NAME_TEXT\"]]\n",
    "huddf.to_csv('data/hud_insured_multifamily_cle.csv', index=False)\n"
   ]
  },
  {
   "cell_type": "code",
   "execution_count": 49,
   "id": "f81f278d",
   "metadata": {},
   "outputs": [],
   "source": [
    "# Connect to a SQLite database\n",
    "conn = sqlite3.connect('database.db')\n"
   ]
  },
  {
   "cell_type": "code",
   "execution_count": null,
   "id": "b74bf31f",
   "metadata": {},
   "outputs": [],
   "source": [
    "###"
   ]
  },
  {
   "cell_type": "code",
   "execution_count": 50,
   "id": "aafe2e6a",
   "metadata": {},
   "outputs": [],
   "source": [
    "# TABLE command\n",
    "create_table_command = \"\"\"\n",
    "CREATE TABLE IF NOT EXISTS HUD_Insured_Multifamily (\n",
    "    STD_CITY,\n",
    "    PROPERTY_ID,\n",
    "    PROPERTY_CATEGORY_NAME,\n",
    "    Property_NAME_TEXT \n",
    ")\n",
    "\"\"\"\n",
    "conn.execute(create_table_command)\n",
    "conn.commit()"
   ]
  },
  {
   "cell_type": "code",
   "execution_count": 51,
   "id": "3315a2d6",
   "metadata": {},
   "outputs": [],
   "source": [
    "# Function to insert values from CSV to the table\n",
    "def insert_values_from_csv(conn, csv_file_path):\n",
    "    df = pd.read_csv(csv_file_path)\n",
    "    df.to_sql('HUD_Insured_Multifamily', conn, if_exists='replace', index=False)\n"
   ]
  },
  {
   "cell_type": "code",
   "execution_count": 52,
   "id": "76bf8fd9",
   "metadata": {},
   "outputs": [],
   "source": [
    "# Insert values into the table from a CSV file\n",
    "insert_values_from_csv(conn, 'data/hud_insured_multifamily_cle.csv')"
   ]
  },
  {
   "cell_type": "code",
   "execution_count": 53,
   "id": "5a6ea51e",
   "metadata": {},
   "outputs": [
    {
     "name": "stdout",
     "output_type": "stream",
     "text": [
      "                           STD_CITY  PROPERTY_ID PROPERTY_CATEGORY_NAME  \\\n",
      "0      Pennington                    800225589.0   Insured-Unsubsidized   \n",
      "1      White Settlement              800225933.0   Insured-Unsubsidized   \n",
      "2      Carlinville                   800225983.0   Insured-Unsubsidized   \n",
      "3      Grand Coulee                  800226573.0   Insured-Unsubsidized   \n",
      "4      Vidalia                       800226611.0   Insured-Unsubsidized   \n",
      "...                             ...          ...                    ...   \n",
      "16519  Maplewood                     800254374.0   Insured-Unsubsidized   \n",
      "16520  Garland                       800255132.0   Insured-Unsubsidized   \n",
      "16521  Pleasant Hill                 800255134.0   Insured-Unsubsidized   \n",
      "16522  Grasonville                   800255144.0   Insured-Unsubsidized   \n",
      "16523  Southgate                     800255510.0   Insured-Unsubsidized   \n",
      "\n",
      "                               PROPERTY_NAME_TEXT  \n",
      "0                           Capital Health System  \n",
      "1       Oak Timbers - White Settlement Apartments  \n",
      "2                                     Carlinville  \n",
      "3                       Coulee Community Hospital  \n",
      "4                 Meadows Regional Medical Center  \n",
      "...                                           ...  \n",
      "16519                             Maplewood Lofts  \n",
      "16520              Urban Village at Rosehill City  \n",
      "16521                       Yellowbanks by Kading  \n",
      "16522                        Slippery Hill Senior  \n",
      "16523  REDWOOD SOUTHGATE (ALLEN RD MI P2) - PHASE  \n",
      "\n",
      "[16524 rows x 4 columns]\n"
     ]
    }
   ],
   "source": [
    "# Query the table and print the result\n",
    "table = pd.read_sql_query(\"SELECT * FROM HUD_Insured_Multifamily\", conn)\n",
    "print(table)"
   ]
  },
  {
   "cell_type": "code",
   "execution_count": 54,
   "id": "90c56172",
   "metadata": {},
   "outputs": [],
   "source": [
    "# Prepare for answering the questions\n",
    "answers = []"
   ]
  },
  {
   "cell_type": "code",
   "execution_count": 55,
   "id": "832a4c26",
   "metadata": {},
   "outputs": [],
   "source": [
    "# What city has the most properties?\n",
    "cursor = conn.execute(\"SELECT STD_CITY, COUNT(*) FROM HUD_Insured_Multifamily GROUP BY STD_CITY ORDER BY COUNT(*) DESC LIMIT 1\")\n",
    "answers.append(f\"City with most properties: {cursor.fetchone()}\")\n"
   ]
  },
  {
   "cell_type": "code",
   "execution_count": 56,
   "id": "fb700dc6",
   "metadata": {},
   "outputs": [],
   "source": [
    "# How many property names start with the letter 'H'\n",
    "cursor = conn.execute(\"SELECT COUNT(*) FROM HUD_Insured_Multifamily WHERE Property_NAME_TEXT LIKE 'H%'\")\n",
    "answers.append(f\"Properties starting with 'H': {cursor.fetchone()[0]}\")\n"
   ]
  },
  {
   "cell_type": "code",
   "execution_count": 57,
   "id": "cc248493",
   "metadata": {},
   "outputs": [],
   "source": [
    "# What % of the properties in the property category is 'Insured-Unsubsidized'\n",
    "cursor = conn.execute(\"SELECT COUNT(*) FROM HUD_Insured_Multifamily WHERE PROPERTY_CATEGORY_NAME = 'Insured-Unsubsidized'\")\n",
    "total_count = cursor.fetchone()[0]\n",
    "cursor = conn.execute(\"SELECT COUNT(*) FROM HUD_Insured_Multifamily\")\n",
    "overall_count = cursor.fetchone()[0]\n",
    "percentage = (total_count / overall_count) * 100 if overall_count > 0 else 0\n",
    "answers.append(f\"Percentage of 'Insured-Unsubsidized': {percentage:.2f}%\")"
   ]
  },
  {
   "cell_type": "code",
   "execution_count": 58,
   "id": "46521598",
   "metadata": {},
   "outputs": [],
   "source": [
    "# How many unique property id are there in this data set\n",
    "cursor = conn.execute(\"SELECT COUNT(DISTINCT PROPERTY_ID) FROM HUD_Insured_Multifamily\")\n",
    "answers.append(f\"Unique property IDs: {cursor.fetchone()[0]}\")"
   ]
  },
  {
   "cell_type": "code",
   "execution_count": 59,
   "id": "f9bbe212",
   "metadata": {},
   "outputs": [],
   "source": [
    "# Close the connection\n",
    "conn.close()"
   ]
  },
  {
   "cell_type": "code",
   "execution_count": 60,
   "id": "0dcf027d",
   "metadata": {},
   "outputs": [],
   "source": [
    "# Combine questions and answers into a DataFrame\n",
    "qa_df = pd.DataFrame({\n",
    "    \"Questions\": [\n",
    "        \"What city has the most properties?\",\n",
    "        \"How many property names start with the letter 'H'\",\n",
    "        \"What % of the properties in the property category is 'Insured-Unsubsidized'\",\n",
    "        \"How many unique property IDs are there in this data set\"\n",
    "    ],\n",
    "    \"Answers\": answers\n",
    "})"
   ]
  },
  {
   "cell_type": "code",
   "execution_count": 61,
   "id": "09d8af00",
   "metadata": {},
   "outputs": [],
   "source": [
    "# Export the DataFrame to a CSV file\n",
    "qa_df.to_csv(r'data/Questions_and_Answers.csv', index=False)"
   ]
  },
  {
   "cell_type": "code",
   "execution_count": 62,
   "id": "46d1ece6",
   "metadata": {},
   "outputs": [
    {
     "name": "stdout",
     "output_type": "stream",
     "text": [
      "                                           Questions  \\\n",
      "0                 What city has the most properties?   \n",
      "1  How many property names start with the letter 'H'   \n",
      "2  What % of the properties in the property categ...   \n",
      "3  How many unique property IDs are there in this...   \n",
      "\n",
      "                                             Answers  \n",
      "0  City with most properties: ('Chicago          ...  \n",
      "1                  Properties starting with 'H': 801  \n",
      "2       Percentage of 'Insured-Unsubsidized': 68.70%  \n",
      "3                         Unique property IDs: 16523  \n"
     ]
    }
   ],
   "source": [
    "print(qa_df)"
   ]
  },
  {
   "cell_type": "markdown",
   "id": "17c05398",
   "metadata": {},
   "source": [
    "## PINECONE and OPENAI setup"
   ]
  },
  {
   "cell_type": "code",
   "execution_count": 72,
   "id": "b9ed7c4a",
   "metadata": {},
   "outputs": [],
   "source": [
    "os.environ['PINECONE_API_KEY'] = \"d7ad4843-8f48-4f21-929e-5e293224994e\"  \n",
    "pinecone_api_key = os.getenv(\"PINECONE_API_KEY\")\n",
    "\n",
    "# Initialize connection to Pinecone\n",
    "pc = PineconeGRPC(api_key=pinecone_api_key)\n",
    "index_name = \"structured-data-example\"\n",
    "\n",
    "if index_name not in pc.list_indexes().names():\n",
    "    pc.create_index(\n",
    "        index_name,\n",
    "        dimension=1536,  # Dimensions match encoder (embedder/vectorizer) you will use downstream, ada-002 from OpenAI.\n",
    "        spec=ServerlessSpec(cloud=\"aws\", region=\"us-east-1\"),\n",
    "    )\n",
    "\n",
    "# Initialize your index\n",
    "pinecone_index = pc.Index(index_name)"
   ]
  },
  {
   "cell_type": "code",
   "execution_count": 73,
   "id": "77502849",
   "metadata": {},
   "outputs": [
    {
     "data": {
      "text/plain": [
       "{'dimension': 1536,\n",
       " 'index_fullness': 0.0,\n",
       " 'namespaces': {'': {'vector_count': 0}},\n",
       " 'total_vector_count': 0}"
      ]
     },
     "execution_count": 73,
     "metadata": {},
     "output_type": "execute_result"
    }
   ],
   "source": [
    "# Confirm creation of your index & that (if new) it has no vectors in it yet.\n",
    "pinecone_index.describe_index_stats()"
   ]
  },
  {
   "cell_type": "code",
   "execution_count": 74,
   "id": "9aff4102",
   "metadata": {},
   "outputs": [],
   "source": [
    "# If for any reason you want to delete your Pinecone index and start over, execute this code:\n",
    "# pc.delete_index(index_name)"
   ]
  },
  {
   "cell_type": "code",
   "execution_count": 75,
   "id": "142a60b8",
   "metadata": {},
   "outputs": [],
   "source": [
    "# Set/Get your OpenAI API Key\n",
    "\n",
    "os.environ['OPENAI_API_KEY'] = \"sk-proj-G5BRCE3LFzqPAvzcz5dAT3BlbkFJ0QzhFQRn517N4nPqPF4I\"  \n",
    "openai_api_key = os.getenv(\"OPENAI_API_KEY\")"
   ]
  },
  {
   "cell_type": "code",
   "execution_count": 76,
   "id": "b9921435",
   "metadata": {},
   "outputs": [],
   "source": [
    "# Declare embedding model you will use throughout notebook:\n",
    "# OpenAI's ada-002 text embedding modal is the model you will use both for Node parsing and for vectorization of PDF contents\n",
    "EMBED_MODEL = OpenAIEmbedding(api_key=openai_api_key)"
   ]
  },
  {
   "cell_type": "code",
   "execution_count": 78,
   "id": "9be0fb28",
   "metadata": {},
   "outputs": [],
   "source": [
    "# You will need to re-define Pinecone as a LlamaIndex PineconeVectorStore obj when you add namespaces, so build a\n",
    "# function to help you do that:\n",
    "def initialize_vector_store(index: PineconeGRPC, namespace: str) -> PineconeVectorStore:\n",
    "    \"\"\"\n",
    "    Initialize Pinecone index as a VectorStore obj.\n",
    "\n",
    "    :param index: Pinecone serverless index.\n",
    "    :param namespace: Namespace constraint you want on your queries, indexing operations, etc. when using this vector store.\n",
    "    :return: PineconeVectorStore obj.\n",
    "    \"\"\"\n",
    "    return PineconeVectorStore(pinecone_index=index, namespace=namespace)"
   ]
  },
  {
   "cell_type": "code",
   "execution_count": 79,
   "id": "bda7906c",
   "metadata": {},
   "outputs": [],
   "source": [
    "def run_indexing_pipeline(vector_store, documents, embed_model=EMBED_MODEL):\n",
    "    # Define pipeline stages\n",
    "    pipeline = IngestionPipeline(\n",
    "        transformations=[\n",
    "            # CleanTextForOpenAI(),  # Clean doc text\n",
    "            SemanticSplitterNodeParser(\n",
    "                buffer_size=1,\n",
    "                breakpoint_percentile_threshold=95,\n",
    "                embed_model=embed_model,\n",
    "                ),\n",
    "            embed_model,  # Vectorize nodes\n",
    "            ],\n",
    "        vector_store=vector_store # Index into Pinecone\n",
    "        )\n",
    "\n",
    "    # Run documents through pipeline\n",
    "    return pipeline.run(documents=documents)"
   ]
  },
  {
   "cell_type": "code",
   "execution_count": 80,
   "id": "048960e0",
   "metadata": {},
   "outputs": [
    {
     "ename": "NameError",
     "evalue": "name 'ctrl_docs' is not defined",
     "output_type": "error",
     "traceback": [
      "\u001b[1;31m---------------------------------------------------------------------------\u001b[0m",
      "\u001b[1;31mNameError\u001b[0m                                 Traceback (most recent call last)",
      "Cell \u001b[1;32mIn[80], line 8\u001b[0m\n\u001b[0;32m      5\u001b[0m ctrl_vector_store \u001b[38;5;241m=\u001b[39m initialize_vector_store(pinecone_index, ctrl_namespace)\n\u001b[0;32m      7\u001b[0m \u001b[38;5;66;03m# Run pipeline\u001b[39;00m\n\u001b[1;32m----> 8\u001b[0m output \u001b[38;5;241m=\u001b[39m run_indexing_pipeline(ctrl_vector_store, ctrl_docs)\n",
      "\u001b[1;31mNameError\u001b[0m: name 'ctrl_docs' is not defined"
     ]
    }
   ],
   "source": [
    "\n",
    "\n",
    "# Declare namespace you will put your first batch of vectors into:\n",
    "ctrl_namespace = 'control'\n",
    "\n",
    "# Initialize vector store w/control namespace\n",
    "ctrl_vector_store = initialize_vector_store(pinecone_index, ctrl_namespace)\n",
    "\n",
    "# Run pipeline\n",
    "output = run_indexing_pipeline(ctrl_vector_store, ctrl_docs)\n",
    "\n"
   ]
  },
  {
   "cell_type": "code",
   "execution_count": 81,
   "id": "42e61377",
   "metadata": {},
   "outputs": [
    {
     "data": {
      "text/plain": [
       "{'dimension': 1536,\n",
       " 'index_fullness': 0.0,\n",
       " 'namespaces': {'': {'vector_count': 0}},\n",
       " 'total_vector_count': 0}"
      ]
     },
     "execution_count": 81,
     "metadata": {},
     "output_type": "execute_result"
    }
   ],
   "source": [
    "# Confirm your docs made it to the index, in the right namespace\n",
    "pinecone_index.describe_index_stats()"
   ]
  },
  {
   "cell_type": "code",
   "execution_count": null,
   "id": "2a87011b",
   "metadata": {},
   "outputs": [],
   "source": []
  }
 ],
 "metadata": {
  "kernelspec": {
   "display_name": "Python 3 (ipykernel)",
   "language": "python",
   "name": "python3"
  },
  "language_info": {
   "codemirror_mode": {
    "name": "ipython",
    "version": 3
   },
   "file_extension": ".py",
   "mimetype": "text/x-python",
   "name": "python",
   "nbconvert_exporter": "python",
   "pygments_lexer": "ipython3",
   "version": "3.11.7"
  }
 },
 "nbformat": 4,
 "nbformat_minor": 5
}
