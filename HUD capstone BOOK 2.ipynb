{
 "cells": [
  {
   "cell_type": "code",
   "execution_count": 22,
   "id": "9e2466cd",
   "metadata": {},
   "outputs": [],
   "source": [
    "import pandas as pd\n",
    "import sqlite3\n",
    "import json\n",
    "import os\n",
    "import re\n",
    "from typing import Any\n",
    "import requests\n",
    "from bs4 import BeautifulSoup, ResultSet\n",
    "from copy import deepcopy\n",
    "from IPython.display import HTML, display\n",
    "from pathlib import Path\n",
    "from pinecone import ServerlessSpec\n",
    "from pinecone.grpc import PineconeGRPC\n",
    "from langchain.document_loaders import TextLoader\n",
    "from llama_index.core.indices.vector_store.base import VectorStoreIndex\n",
    "from llama_index.core.readers import download_loader\n",
    "from llama_index.core.ingestion.pipeline import IngestionPipeline\n",
    "from llama_index.core.node_parser import SemanticSplitterNodeParser\n",
    "from llama_index.core.query_engine import RetrieverQueryEngine\n",
    "from llama_index.core.retrievers import VectorIndexRetriever\n",
    "from llama_index.core.schema import Document, TransformComponent\n",
    "from llama_index.embeddings.openai import OpenAIEmbedding\n",
    "from llama_index.readers.file import PDFReader\n",
    "from llama_index.readers.file import CSVReader\n",
    "from llama_index.vector_stores.pinecone import PineconeVectorStore\n",
    "from unstructured.partition.pdf import partition_pdf\n",
    "from openai import OpenAI\n",
    "\n",
    "\n"
   ]
  },
  {
   "cell_type": "code",
   "execution_count": 38,
   "id": "8957bc09",
   "metadata": {},
   "outputs": [],
   "source": [
    "!pip install -qU \\\n",
    "    \"pinecone-client[grpc]\"==3.2.2 \\\n",
    "    \"unstructured[pdf]\"==0.12.4 \\\n",
    "    langchain==0.1.9 \\\n",
    "    llama-index==0.10.23 \\\n",
    "    llama-index-vector-stores-pinecone==0.1.4 \\\n",
    "    pillow==10.0.0 \\\n",
    "    poppler-utils==0.1.0 \\\n",
    "    pytesseract==0.3.10"
   ]
  },
  {
   "cell_type": "markdown",
   "id": "5bbd0dae",
   "metadata": {},
   "source": [
    "## Load + Clean +SQL Queries + Question and Answers"
   ]
  },
  {
   "cell_type": "code",
   "execution_count": 23,
   "id": "28ae7333",
   "metadata": {},
   "outputs": [
    {
     "name": "stderr",
     "output_type": "stream",
     "text": [
      "C:\\Users\\mdalt\\AppData\\Local\\Temp\\ipykernel_45856\\3972625611.py:2: DtypeWarning: Columns (2,19,22,35,36,41,89,90,91,92,95,103,109,111,121,123,125,126,127,164,169,170,176,205,209,217,274) have mixed types. Specify dtype option on import or set low_memory=False.\n",
      "  huddf = pd.read_csv('data/hud_insured_multifamily.csv')\n"
     ]
    }
   ],
   "source": [
    "#Load the CSV file\n",
    "huddf = pd.read_csv('data/hud_insured_multifamily.csv')"
   ]
  },
  {
   "cell_type": "code",
   "execution_count": 27,
   "id": "7a7cdf9b",
   "metadata": {},
   "outputs": [],
   "source": [
    "# Data cleaning\n",
    "#huddf = huddf.drop(columns=[\"PROJECT_MANAGER_NAME_TEXT\", \"AUTOMATIC_GEOCODE_IND\"])\n",
    "huddf = huddf[[\"STD_CITY\",\"PROPERTY_ID\",\"PROPERTY_CATEGORY_NAME\",\"PROPERTY_NAME_TEXT\",\"ORIGINAL_LOAN_AMOUNT\",\"LOAN_MATURITY_DATE\",\"OPIIS_SIZE_CATEGORY\"]]\n",
    "#huddf = huddf.head(100)\n",
    "huddf.to_csv('data/hud_insured_multifamily_cle_HUMAN.csv', index=False)\n"
   ]
  },
  {
   "cell_type": "code",
   "execution_count": 28,
   "id": "f81f278d",
   "metadata": {},
   "outputs": [],
   "source": [
    "# Connect to a SQLite database\n",
    "conn = sqlite3.connect('database.db')\n"
   ]
  },
  {
   "cell_type": "code",
   "execution_count": 29,
   "id": "aafe2e6a",
   "metadata": {},
   "outputs": [],
   "source": [
    "# TABLE command\n",
    "create_table_command = \"\"\"\n",
    "CREATE TABLE IF NOT EXISTS HUD_Insured_Multifamily1 (\n",
    "    STD_CITY,\n",
    "    PROPERTY_ID,\n",
    "    PROPERTY_CATEGORY_NAME,\n",
    "    Property_NAME_TEXT,\n",
    "    ORIGINAL_LOAN_AMOUNT,\n",
    "    LOAN_MATURITY_DATE,\n",
    "    OPIIS_SIZE_CATEGORY\n",
    "\n",
    "\n",
    ")\n",
    "\"\"\"\n",
    "conn.execute(create_table_command)\n",
    "conn.commit()"
   ]
  },
  {
   "cell_type": "code",
   "execution_count": 30,
   "id": "3315a2d6",
   "metadata": {},
   "outputs": [],
   "source": [
    "# Function to insert values from CSV to the table\n",
    "def insert_values_from_csv(conn, csv_file_path):\n",
    "    df = pd.read_csv(csv_file_path)\n",
    "    df.to_sql('HUD_Insured_Multifamily1', conn, if_exists='replace', index=False)\n"
   ]
  },
  {
   "cell_type": "code",
   "execution_count": 31,
   "id": "76bf8fd9",
   "metadata": {},
   "outputs": [],
   "source": [
    "# Insert values into the table from a CSV file\n",
    "insert_values_from_csv(conn, 'data/hud_insured_multifamily_cle_HUMAN.csv')"
   ]
  },
  {
   "cell_type": "code",
   "execution_count": 32,
   "id": "5a6ea51e",
   "metadata": {},
   "outputs": [
    {
     "name": "stdout",
     "output_type": "stream",
     "text": [
      "                           STD_CITY  PROPERTY_ID PROPERTY_CATEGORY_NAME  \\\n",
      "0      Pennington                    800225589.0   Insured-Unsubsidized   \n",
      "1      White Settlement              800225933.0   Insured-Unsubsidized   \n",
      "2      Carlinville                   800225983.0   Insured-Unsubsidized   \n",
      "3      Grand Coulee                  800226573.0   Insured-Unsubsidized   \n",
      "4      Vidalia                       800226611.0   Insured-Unsubsidized   \n",
      "...                             ...          ...                    ...   \n",
      "16519  Maplewood                     800254374.0   Insured-Unsubsidized   \n",
      "16520  Garland                       800255132.0   Insured-Unsubsidized   \n",
      "16521  Pleasant Hill                 800255134.0   Insured-Unsubsidized   \n",
      "16522  Grasonville                   800255144.0   Insured-Unsubsidized   \n",
      "16523  Southgate                     800255510.0   Insured-Unsubsidized   \n",
      "\n",
      "                               PROPERTY_NAME_TEXT  ORIGINAL_LOAN_AMOUNT  \\\n",
      "0                           Capital Health System           755874500.0   \n",
      "1       Oak Timbers - White Settlement Apartments             4000000.0   \n",
      "2                                     Carlinville            19250000.0   \n",
      "3                       Coulee Community Hospital            18864200.0   \n",
      "4                 Meadows Regional Medical Center            74435000.0   \n",
      "...                                           ...                   ...   \n",
      "16519                             Maplewood Lofts             8855800.0   \n",
      "16520              Urban Village at Rosehill City                   0.0   \n",
      "16521                       Yellowbanks by Kading            15319900.0   \n",
      "16522                        Slippery Hill Senior             4535000.0   \n",
      "16523  REDWOOD SOUTHGATE (ALLEN RD MI P2) - PHASE             7306000.0   \n",
      "\n",
      "          LOAN_MATURITY_DATE OPIIS_SIZE_CATEGORY  \n",
      "0       1/1/2037 12:00:00 AM                None  \n",
      "1       3/1/2025 12:00:00 AM         High-Medium  \n",
      "2       5/1/2035 12:00:00 AM                None  \n",
      "3      10/1/2041 12:00:00 AM                None  \n",
      "4       5/1/2036 12:00:00 AM                None  \n",
      "...                      ...                 ...  \n",
      "16519   9/1/2058 12:00:00 AM                None  \n",
      "16520                   None                None  \n",
      "16521   9/1/2058 12:00:00 AM                None  \n",
      "16522   4/1/2065 12:00:00 AM                None  \n",
      "16523  11/1/2058 12:00:00 AM                None  \n",
      "\n",
      "[16524 rows x 7 columns]\n"
     ]
    }
   ],
   "source": [
    "# Query the table and print the result\n",
    "table = pd.read_sql_query(\"SELECT * FROM HUD_Insured_Multifamily1\", conn)\n",
    "print(table)"
   ]
  },
  {
   "cell_type": "code",
   "execution_count": 33,
   "id": "90c56172",
   "metadata": {},
   "outputs": [],
   "source": [
    "# Prepare for answering the questions\n",
    "answers = []"
   ]
  },
  {
   "cell_type": "code",
   "execution_count": 34,
   "id": "832a4c26",
   "metadata": {},
   "outputs": [],
   "source": [
    "# What city has the most properties?\n",
    "cursor = conn.execute(\"SELECT STD_CITY, COUNT(*) FROM HUD_Insured_Multifamily1 GROUP BY STD_CITY ORDER BY COUNT(*) DESC LIMIT 1\")\n",
    "answers.append(f\"City with most properties: {cursor.fetchone()}\")\n"
   ]
  },
  {
   "cell_type": "code",
   "execution_count": 35,
   "id": "fb700dc6",
   "metadata": {},
   "outputs": [],
   "source": [
    "# How many property names start with the letter 'H'\n",
    "cursor = conn.execute(\"SELECT COUNT(*) FROM HUD_Insured_Multifamily1 WHERE Property_NAME_TEXT LIKE 'H%'\")\n",
    "answers.append(f\"Properties starting with 'H': {cursor.fetchone()[0]}\")\n"
   ]
  },
  {
   "cell_type": "code",
   "execution_count": 36,
   "id": "cc248493",
   "metadata": {},
   "outputs": [],
   "source": [
    "# What % of the properties in the property category is 'Insured-Unsubsidized'\n",
    "cursor = conn.execute(\"SELECT COUNT(*) FROM HUD_Insured_Multifamily1 WHERE PROPERTY_CATEGORY_NAME = 'Insured-Unsubsidized'\")\n",
    "total_count = cursor.fetchone()[0]\n",
    "cursor = conn.execute(\"SELECT COUNT(*) FROM HUD_Insured_Multifamily1\")\n",
    "overall_count = cursor.fetchone()[0]\n",
    "percentage = (total_count / overall_count) * 100 if overall_count > 0 else 0\n",
    "answers.append(f\"Percentage of 'Insured-Unsubsidized': {percentage:.2f}%\")"
   ]
  },
  {
   "cell_type": "code",
   "execution_count": 37,
   "id": "46521598",
   "metadata": {},
   "outputs": [],
   "source": [
    "# How many unique property id are there in this data set\n",
    "cursor = conn.execute(\"SELECT COUNT(DISTINCT PROPERTY_ID) FROM HUD_Insured_Multifamily1\")\n",
    "answers.append(f\"Unique property IDs: {cursor.fetchone()[0]}\")"
   ]
  },
  {
   "cell_type": "code",
   "execution_count": 38,
   "id": "2fc6c544",
   "metadata": {},
   "outputs": [],
   "source": [
    "# What were the three largest refinaces\n",
    "cursor = conn.execute(\"SELECT PROPERTY_NAME_TEXT, ORIGINAL_LOAN_AMOUNT FROM HUD_Insured_Multifamily1 ORDER BY ORIGINAL_LOAN_AMOUNT DESC LIMIT 3\")\n",
    "answers.append(f\"Three largest refinances: {cursor.fetchall()}\")"
   ]
  },
  {
   "cell_type": "code",
   "execution_count": 39,
   "id": "47a43c46",
   "metadata": {},
   "outputs": [],
   "source": [
    "#Does the size of a refinanace correlate with the capacity of a multi family ?\n",
    "cursor = conn.execute(\"\"\"\n",
    "SELECT OPIIS_SIZE_CATEGORY, AVG(ORIGINAL_LOAN_AMOUNT) AS Average_Loan_Amount\n",
    "FROM HUD_Insured_Multifamily1\n",
    "GROUP BY OPIIS_SIZE_CATEGORY\n",
    "ORDER BY Average_Loan_Amount DESC\n",
    "\"\"\")\n",
    "answers.append(f\"Refinance size and multifamily capacity correlation: {cursor.fetchall()}\")"
   ]
  },
  {
   "cell_type": "code",
   "execution_count": 40,
   "id": "17d1c629",
   "metadata": {},
   "outputs": [],
   "source": [
    "# What are distnict categories of finacing present in the data and what do they mean?\n",
    "cursor = conn.execute(\"SELECT DISTINCT PROPERTY_CATEGORY_NAME FROM HUD_Insured_Multifamily1\")\n",
    "categories = cursor.fetchall()\n",
    "answers.append(f\"Distinct financing categories: {categories}\")"
   ]
  },
  {
   "cell_type": "code",
   "execution_count": 41,
   "id": "f9bbe212",
   "metadata": {},
   "outputs": [],
   "source": [
    "# Close the connection\n",
    "conn.close()"
   ]
  },
  {
   "cell_type": "code",
   "execution_count": 42,
   "id": "0dcf027d",
   "metadata": {},
   "outputs": [],
   "source": [
    "# Combine questions and answers into a DataFrame\n",
    "qa_df = pd.DataFrame({\n",
    "    \"Questions\": [\n",
    "        \"What city has the most properties?\",\n",
    "        \"How many property names start with the letter 'H'\",\n",
    "        \"What % of the properties in the property category is 'Insured-Unsubsidized'\",\n",
    "        \"How many unique property IDs are there in this data set\",\n",
    "        \"What were the three largest refinaces?\",\n",
    "        \"Does the size of a refinanace correlate with the capacity of a multi family ?\",\n",
    "        \"What are distnict categories of finacing present in the data and what do they mean?\"\n",
    "    ],\n",
    "    \"Answers\": answers\n",
    "})"
   ]
  },
  {
   "cell_type": "code",
   "execution_count": 43,
   "id": "09d8af00",
   "metadata": {},
   "outputs": [],
   "source": [
    "# Export the DataFrame to a CSV file\n",
    "qa_df.to_csv(r'data/Questions_and_Answers_HUMAN1.csv', index=False)"
   ]
  },
  {
   "cell_type": "code",
   "execution_count": 102,
   "id": "46d1ece6",
   "metadata": {},
   "outputs": [
    {
     "name": "stdout",
     "output_type": "stream",
     "text": [
      "                                           Questions  \\\n",
      "0                 What city has the most properties?   \n",
      "1  How many property names start with the letter 'H'   \n",
      "2  What % of the properties in the property categ...   \n",
      "3  How many unique property IDs are there in this...   \n",
      "4             What were the three largest refinaces?   \n",
      "5  Does the size of a refinanace correlate with t...   \n",
      "6  What are distnict categories of finacing prese...   \n",
      "\n",
      "                                             Answers  \n",
      "0  City with most properties: ('Jacksonville     ...  \n",
      "1                    Properties starting with 'H': 3  \n",
      "2      Percentage of 'Insured-Unsubsidized': 100.00%  \n",
      "3                            Unique property IDs: 88  \n",
      "4  Three largest refinances: [('Capital Health Sy...  \n",
      "5  Refinance size and multifamily capacity correl...  \n",
      "6  Distinct financing categories: [('Insured-Unsu...  \n"
     ]
    }
   ],
   "source": [
    "print(qa_df)"
   ]
  },
  {
   "cell_type": "code",
   "execution_count": 103,
   "id": "82f9acb7",
   "metadata": {},
   "outputs": [],
   "source": [
    "# Read in your CSV\n",
    "\n",
    "loader = CSVReader()\n",
    "path = Path('data/hud_insured_multifamily_cle.csv')\n",
    "ctrl_docs = loader.load_data(file=path)\n"
   ]
  },
  {
   "cell_type": "code",
   "execution_count": 104,
   "id": "887f37dc",
   "metadata": {},
   "outputs": [
    {
     "name": "stdout",
     "output_type": "stream",
     "text": [
      "[Document(id_='b6e25b0f-e6f1-47f7-8a0c-c207d815ebe8', embedding=None, metadata={'filename': 'hud_insured_multifamily_cle.csv', 'extension': '.csv'}, excluded_embed_metadata_keys=[], excluded_llm_metadata_keys=[], relationships={}, text=\"STD_CITY, PROPERTY_ID, PROPERTY_CATEGORY_NAME, PROPERTY_NAME_TEXT, ORIGINAL_LOAN_AMOUNT, LOAN_MATURITY_DATE, OPIIS_SIZE_CATEGORY\\nPennington                  , 800225589, Insured-Unsubsidized, Capital Health System, 755874500, 1/1/2037 0:00, \\nWhite Settlement            , 800225933, Insured-Unsubsidized, Oak Timbers - White Settlement Apartments, 4000000, 3/1/2025 0:00, High-Medium\\nCarlinville                 , 800225983, Insured-Unsubsidized, Carlinville, 19250000, 5/1/2035 0:00, \\nGrand Coulee                , 800226573, Insured-Unsubsidized, Coulee Community Hospital, 18864200, 10/1/2041 0:00, \\nVidalia                     , 800226611, Insured-Unsubsidized, Meadows Regional Medical Center, 74435000, 5/1/2036 0:00, \\nDallas                      , 800226980, Insured-Unsubsidized, Reese Court Villas, 2758300, 1/1/2027 0:00, High-Medium\\nHerrin                      , 800227024, Insured-Unsubsidized, Friendship Care Center, 0, , \\nAnna                        , 800227025, Insured-Unsubsidized, City Care Center of Anna, 0, , \\nDayton                      , 800221146, Insured-Unsubsidized, The Sanctuary at Wilmington Pond, 0, , \\nFox Lake                    , 800221734, Insured-Unsubsidized, Paradise Park Assisted Living, 0, , \\nAlbuquerque                 , 800222055, Insured-Unsubsidized, UNIVERSITY OF NEW MEXICO HOSPITAL, 320000000, 9/1/2049 0:00, \\nArcadia                     , 800223276, Insured-Unsubsidized, Methodist Hospital, 0, , \\nRidgecrest                  , 800223385, Insured-Unsubsidized, Ridgecrest Regional Hospital, 68822000, 7/1/2035 0:00, \\nJacksonville                , 800223460, Insured-Unsubsidized, Onslow County Hospital Authority, 23109200, 11/1/2050 0:00, \\nCobden                      , 800227026, Insured-Unsubsidized, City Care Center of Cobden, 0, , \\nRidgway                     , 800227036, Insured-Unsubsidized, Ridgway Manor, 0, , \\nMansfield                   , 800227233, Insured-Unsubsidized, Mansfield Memorial Homes, 0, , \\nWashington                  , 800226632, Insured-Unsubsidized, Wills Memorial Hospital, 12873700, 2/1/2037 0:00, \\nLeawood                     , 800226684, Insured-Unsubsidized, Neighborhoods at Sharon Lane, 0, , \\nPeoria                      , 800226797, Insured-Unsubsidized, Peoria Assisted Living Facility, 0, , \\nReno                        , 800226852, Insured-Unsubsidized, Bordeaux by the Lake, 0, , \\nJupiter                     , 800227564, Insured-Unsubsidized, Inst for Aging Life Sci and Res at Abacoa, 0, , \\nScottsdale                  , 800227599, Insured-Unsubsidized, Belmont Village Scottsdale, 0, , \\nAshland                     , 800227026, Insured-Unsubsidized, Reservoir Continuum Care, 0, , \\nSewickley                   , 800211955, Insured-Unsubsidized, The Verland Foundation, 0, , \\nLaurel                      , 800224312, Insured-Unsubsidized, Greater Laurel Health and Rehabilitation, 0, , \\nAlbany                      , 800224608, Insured-Unsubsidized, Westover Place Apartments, 1672000, 1/1/2025 0:00, Low-Medium\\nSiler City                  , 800224625, Insured-Unsubsidized, Chatham Hospital, 0, , \\nBay City                    , 800225113, Insured-Unsubsidized, Metagorda County Hospital District, 41677919, 12/1/2034 0:00, \\nPhoenix                     , 800227026, Insured-Unsubsidized, Villages of East Camelback, 0, , \\nOceanside                   , 800227461, Insured-Unsubsidized, Villa at Mission San Luis Rey, 0, , \\nPeoria                      , 800227462, Insured-Unsubsidized, Agua Fria Assisted Living Facility, 0, , \\nLand O Lakes                , 800227524, Insured-Unsubsidized, Village Walk Assisted Living, 0, , \\nPlant City                  , 800227541, Insured-Unsubsidized, Plant City Assisted Living, 0, , \\nFaribault                   , 800227561, Insured-Unsubsidized, Faribault Senior Housing, 0, , \\nSurprise                    , 800227562, Insured-Unsubsidized, Diamond Resort Retirement Community, 0, , \\nSouth Lyon                  , 800227563, Insured-Unsubsidized, Cambrian of Lyon, 0, , \\nBend                        , 800226936, Insured-Unsubsidized, High Desert Assisted Living Facility, 0, , \\nDallas                      , 800226975, Insured-Unsubsidized, Sphinx at Luxar Villas, 3300000, 1/1/2027 0:00, High-Medium\\nSmithfield                  , 800223490, Insured-Unsubsidized, Johnston Memorial Hospital, 134814441, 7/1/2035 0:00, \\nNew Port Richey             , 800227747, Insured-Unsubsidized, Magnolia Oaks Assisted Living, 0, , \\nBuffalo                     , 800027671, Insured-Unsubsidized, BUFFALO GENERAL HOSPITAL, 128042400, 10/1/2042 0:00, \\nChicago                     , 800039756, Insured-Unsubsidized, MOUNT SINAI HOSPITAL, 102066816, 1/1/2036 0:00, \\nNew York                    , 800025998, Insured-Unsubsidized, ST. LUKE'S ROOSEVELT HOSPITAL, 319555000, 5/1/2030 0:00, \\nBrooklyn                    , 800026179, Insured-Unsubsidized, BROOKLYN  HOSPITAL CENTER, 50843260, 8/1/2026 0:00, \\nBrooklyn                    , 800026208, Insured-Unsubsidized, MAIMONIDES MEDICAL CENTER, 141202000, 7/1/2048 0:00, \\nPana                        , 800212102, Insured-Unsubsidized, Prairie Rose Health Care Cente, 3635000, 2/1/2036 0:00, High-Medium\\nFreeport                    , 800212103, Insured-Unsubsidized, Freeport Manor, 0, , \\nJacksonville                , 800212246, Insured-Unsubsidized, Somerset Court of Jacksonville, 0, , \\nHolyoke                     , 800227026, Insured-Unsubsidized, Melissa Memorial Hospital Corp, 13207000, 5/1/2033 0:00, Large\\nJupiter                     , 800227633, Insured-Unsubsidized, The Allegro at Abacoa, 0, , \\nBurnsville                  , 800227690, Insured-Unsubsidized, Regent Suites at the Summit, 0, , \\nMalabar                     , 800231292, Insured-Unsubsidized, Malabar ALF, 0, , \\nSeymour                     , 800231301, Insured-Unsubsidized, Trinity Valley, 0, , \\nLibrary                     , 800213869, Insured-Unsubsidized, Mt. Vernon of South Park, 0, , \\nElizabeth                   , 800213871, Insured-Unsubsidized, Mt. Vernon of Elizabeth, 0, , \\nEdgerton                    , 800227626, Insured-Unsubsidized, Edgerton Hospital and Health Services, 25900000, 10/1/2036 0:00, \\nPhoenix                     , 800227348, Insured-Unsubsidized, Desert Haven, 0, , \\nJacksonville                , 800227026, Insured-Unsubsidized, Belfort Senior Living, 0, , \\nManchester                  , 800057602, Insured-Unsubsidized, OAK KNOLL RESIDENTIAL CARE, 0, , \\n, 800068858, Insured-Unsubsidized, HAMMOND ELDERLY FACILITY, 0, , \\nJeffersonville              , 800068861, Insured-Unsubsidized, FOUNTAIN CREST ALZHEIMER'S FAC, 0, , \\nTorrance                    , 800227026, Insured-Unsubsidized, VERMONT RET CTR, 0, , \\nCharleston                  , 800220359, Insured-Unsubsidized, MEDICAL UNIVERSITY HOSPITAL AUTHORITY PHASE I, 316397200, 7/1/2044 0:00, \\nPhenix City                 , 800220573, Insured-Unsubsidized, Summit Regional Hospital, 30571000, 8/1/2031 0:00, \\nBronx                       , 800250134, Insured-Unsubsidized, Parkchester Gardens, 0, , \\nProspect                    , 800227026, Insured-Unsubsidized, Prospect Elder Care, 0, , \\nDanville                    , 800210848, Insured-Unsubsidized, John Chambers Memorial Hospital, 9900000, 7/1/2033 0:00, Large\\nPalm Bay                    , 800227374, Insured-Unsubsidized, The Biscayne at Bay Side, 0, , \\nCayey                       , 800227376, Insured-Unsubsidized, Hospital Menonita, 129966100, 4/1/2037 0:00, \\nLanse                       , 800227026, Insured-Unsubsidized, Baraga County Memorial Hospital, 27653800, 9/1/2036 0:00, \\nHigh Point                  , 800219333, Insured-Unsubsidized, Wesleyan Arms Retirement Center, 0, , \\nYakima                      , 800220098, Insured-Unsubsidized, Crescent Health Care, 4143957, 2/1/2046 0:00, High-Medium\\nBronx                       , 800054178, Insured-Unsubsidized, ST BARNABAS HOSPITAL, 86358900, 5/1/2030 0:00, \\nBaton Rouge                 , 800227026, Insured-Unsubsidized, Baton Rouge General Medical Center, 45474000, 5/1/2035 0:00, \\nCambridge                   , 800227026, Insured-Unsubsidized, Squirrelwood, 0, , \\nNew York                    , 800250053, Insured-Unsubsidized, 37 Hillside, 0, , \\nWinchester                  , 800250066, Insured-Unsubsidized, Meadow Branch Apts Phase II, 35421300, 10/1/2063 0:00, \\nBloomington                 , 800227026, Insured-Unsubsidized, Lincoln Lofts, 2800000, 9/1/2062 0:00, \\nCharleston                  , 800250120, Insured-Unsubsidized, Medical University Hospital Authority, 79682500, 5/1/2047 0:00, \\nCambridge                   , 800227247, Insured-Unsubsidized, Cambridge Memorial Hospital, 17544400, 11/1/2035 0:00, \\nQuartzsite                  , 800227282, Insured-Unsubsidized, Quartzsite Assisted Living, 0, , \\nAnnapolis                   , 800249138, Insured-Unsubsidized, The Lofts at Eastport Landing, 0, , \\nChicago                     , 800249236, Insured-Unsubsidized, Ravenswood Senior Living SLF, 25400000, 12/1/2062 0:00, \\nAntioch                     , 800249625, Insured-Unsubsidized, Antioch Family and Senior Apartments, 0, , \\nVacaville                   , 800249383, Insured-Unsubsidized, Saratoga II Senior Apartments, 0, , \\nRaleigh                     , 800249465, Insured-Unsubsidized, Knightdale Apartments, 0, , \\nGrand Junction              , 800227026, Insured-Unsubsidized, Community Hospital, 73884500, 1/1/2049 0:00, \\nCocoa                       , 800249936, Insured-Unsubsidized, ARBOURS AT COCOA, 0, , \\nPuyallup                    , 800227026, Insured-Unsubsidized, Village Cooperative of Puyallup, 18248900, 11/1/2062 0:00, \\nSan Diego                   , 800249700, Insured-Unsubsidized, Valencia Pointe Apartments, 0, , \\nMadison                     , 800249755, Insured-Unsubsidized, OAKLAND SPRINGS APARTMENTS, 42461100, 5/1/2063 0:00, \\nCommerce City               , 800249807, Insured-Unsubsidized, Greyhound Park Apartments, 34000000, 8/1/2041 0:00, \\nDenver                      , 800249866, Insured-Unsubsidized, Pancratia Hall Lofts, 7800000, 6/1/2040 0:00, \\nEl Paso                     , 800248788, Insured-Unsubsidized, Garza Azul (Pre-App/221D4), 0, , \\nGuavabo                     , 800248825, Insured-Unsubsidized, Metro Pavia Health System-Artau Holdings, LLC, 186384500, 9/1/2045 0:00, \\nLyons                       , 800248912, Insured-Unsubsidized, Lyons Valley Townhomes, 0, , \\nBozeman                     , 800249006, Insured-Unsubsidized, Park Meadows Apartments, 0, , \\nAlexandria                  , 800250195, Insured-Unsubsidized, Aspire at Alexandria, 0, , \\nTacoma                      , 800248713, Insured-Unsubsidized, MLK Apartments, 0, , \", start_char_idx=None, end_char_idx=None, text_template='{metadata_str}\\n\\n{content}', metadata_template='{key}: {value}', metadata_seperator='\\n')]\n"
     ]
    }
   ],
   "source": [
    "print(ctrl_docs)"
   ]
  },
  {
   "cell_type": "markdown",
   "id": "17c05398",
   "metadata": {},
   "source": [
    "## PINECONE and OPENAI setup"
   ]
  },
  {
   "cell_type": "code",
   "execution_count": 105,
   "id": "b9ed7c4a",
   "metadata": {},
   "outputs": [],
   "source": [
    "os.environ['PINECONE_API_KEY'] = \"f75a7c27-bf4d-4982-89bc-de3a6054715c\"  \n",
    "pinecone_api_key = os.getenv(\"PINECONE_API_KEY\")\n",
    "\n",
    "# Initialize connection to Pinecone\n",
    "pc = PineconeGRPC(api_key=pinecone_api_key)\n",
    "index_name = \"structured-data-example\"\n",
    "\n",
    "if index_name not in pc.list_indexes().names():\n",
    "    pc.create_index(\n",
    "        index_name,\n",
    "        dimension=1536,  # Dimensions match encoder (embedder/vectorizer) you will use downstream, ada-002 from OpenAI.\n",
    "        spec=ServerlessSpec(cloud=\"aws\", region=\"us-east-1\"),\n",
    "    )\n",
    "\n",
    "# Initialize your index\n",
    "pinecone_index = pc.Index(index_name)"
   ]
  },
  {
   "cell_type": "code",
   "execution_count": 106,
   "id": "77502849",
   "metadata": {},
   "outputs": [
    {
     "data": {
      "text/plain": [
       "{'dimension': 1536,\n",
       " 'index_fullness': 0.0,\n",
       " 'namespaces': {'control': {'vector_count': 10}},\n",
       " 'total_vector_count': 10}"
      ]
     },
     "execution_count": 106,
     "metadata": {},
     "output_type": "execute_result"
    }
   ],
   "source": [
    "# Confirm creation of your index & that (if new) it has no vectors in it yet.\n",
    "pinecone_index.describe_index_stats()"
   ]
  },
  {
   "cell_type": "code",
   "execution_count": 107,
   "id": "9aff4102",
   "metadata": {},
   "outputs": [],
   "source": [
    "# If for any reason you want to delete your Pinecone index and start over, execute this code:\n",
    "# pc.delete_index(index_name)"
   ]
  },
  {
   "cell_type": "code",
   "execution_count": 108,
   "id": "142a60b8",
   "metadata": {},
   "outputs": [],
   "source": [
    "# Set/Get your OpenAI API Key\n",
    "\n",
    "os.environ['OPENAI_API_KEY'] = \"sk-proj-HsdNJgnkUhHogwB6B4eQT3BlbkFJsMUwVvP89qOrRYCAXg3v\"  \n",
    "openai_api_key = os.getenv(\"OPENAI_API_KEY\")"
   ]
  },
  {
   "cell_type": "code",
   "execution_count": 109,
   "id": "b9921435",
   "metadata": {},
   "outputs": [],
   "source": [
    "# Declare embedding model you will use throughout notebook:\n",
    "# OpenAI's ada-002 text embedding modal is the model you will use both for Node parsing and for vectorization of PDF contents\n",
    "EMBED_MODEL = OpenAIEmbedding(api_key=openai_api_key)"
   ]
  },
  {
   "cell_type": "code",
   "execution_count": 110,
   "id": "9be0fb28",
   "metadata": {},
   "outputs": [],
   "source": [
    "# You will need to re-define Pinecone as a LlamaIndex PineconeVectorStore obj when you add namespaces, so build a\n",
    "# function to help you do that:\n",
    "def initialize_vector_store(index: PineconeGRPC, namespace: str) -> PineconeVectorStore:\n",
    "    \"\"\"\n",
    "    Initialize Pinecone index as a VectorStore obj.\n",
    "\n",
    "    :param index: Pinecone serverless index.\n",
    "    :param namespace: Namespace constraint you want on your queries, indexing operations, etc. when using this vector store.\n",
    "    :return: PineconeVectorStore obj.\n",
    "    \"\"\"\n",
    "    return PineconeVectorStore(pinecone_index=index, namespace=namespace)"
   ]
  },
  {
   "cell_type": "code",
   "execution_count": 111,
   "id": "bda7906c",
   "metadata": {},
   "outputs": [],
   "source": [
    "def run_indexing_pipeline(vector_store, documents, embed_model=EMBED_MODEL):\n",
    "    # Define pipeline stages\n",
    "    pipeline = IngestionPipeline(\n",
    "        transformations=[\n",
    "            # CleanTextForOpenAI(),  # Clean doc text\n",
    "            SemanticSplitterNodeParser(\n",
    "                buffer_size=1,\n",
    "                breakpoint_percentile_threshold=95,\n",
    "                embed_model=embed_model,\n",
    "                ),\n",
    "            embed_model,  # Vectorize nodes\n",
    "            ],\n",
    "       \n",
    "        vector_store=vector_store # Index into Pinecone\n",
    "        )\n",
    "\n",
    "    # Run documents through pipeline\n",
    "    return pipeline.run(documents=documents)"
   ]
  },
  {
   "cell_type": "code",
   "execution_count": 112,
   "id": "048960e0",
   "metadata": {},
   "outputs": [
    {
     "data": {
      "application/vnd.jupyter.widget-view+json": {
       "model_id": "b8f9287bea214a7ca00e842bef613a27",
       "version_major": 2,
       "version_minor": 0
      },
      "text/plain": [
       "Upserted vectors:   0%|          | 0/2 [00:00<?, ?it/s]"
      ]
     },
     "metadata": {},
     "output_type": "display_data"
    }
   ],
   "source": [
    "\n",
    "\n",
    "# Declare namespace you will put your first batch of vectors into:\n",
    "ctrl_namespace = 'control'\n",
    "\n",
    "# Initialize vector store w/control namespace\n",
    "ctrl_vector_store = initialize_vector_store(pinecone_index, ctrl_namespace)\n",
    "\n",
    "# Run pipeline\n",
    "output = run_indexing_pipeline(ctrl_vector_store, ctrl_docs)\n",
    "\n"
   ]
  },
  {
   "cell_type": "code",
   "execution_count": 113,
   "id": "42e61377",
   "metadata": {},
   "outputs": [
    {
     "data": {
      "text/plain": [
       "{'dimension': 1536,\n",
       " 'index_fullness': 0.0,\n",
       " 'namespaces': {'control': {'vector_count': 10}},\n",
       " 'total_vector_count': 10}"
      ]
     },
     "execution_count": 113,
     "metadata": {},
     "output_type": "execute_result"
    }
   ],
   "source": [
    "# Confirm your docs made it to the index, in the right namespace\n",
    "pinecone_index.describe_index_stats()"
   ]
  },
  {
   "cell_type": "code",
   "execution_count": 114,
   "id": "2a87011b",
   "metadata": {},
   "outputs": [],
   "source": [
    "QUERIES = [\n",
    "    \"What city has the most properties?\",\n",
    "    \"How many property names start with the letter 'H'\",\n",
    "    \"What % of the properties in the property category is 'Insured-Unsubsidized'\",\n",
    "    \"How many unique property IDs are there in this data set\",\n",
    "    \"What were the three largest refinaces?\",\n",
    "    \"Does the size of a refinanace correlate with the capacity of a multi family ?\",\n",
    "    \"What are distnict categories of finacing present in the data and what do they mean?\",\n",
    "    \n",
    "]\n",
    "\n",
    "ANSWERS = [\n",
    "    \"City with most properties: ('Jacksonville', 3)\",\n",
    "    \" Properties starting with 'H': 3\",\n",
    "    \" Percentage of 'Insured-Unsubsidized': 100.00%\",\n",
    "    \" Unique property IDs: 100\",\n",
    "    \"\"\"Three largest refinances: [('Capital Health System', 755874500.0), ('UNIVERSITY OF NEW MEXICO HOSPITAL', 320000000.0), (\"ST. LUKE'S ROOSEVELT HOSPITAL\", 319555000.0)]\"\"\",\n",
    "    \"Refinance size and multifamily capacity correlation: [(None, 36928028.652173914), ('Large', 11553500.0), ('High-Medium', 3567451.4), ('Low-Medium', 1672000.0)]\",\n",
    "    \"Distinct financing categories: [('Insured-Unsubsidized',)]\",\n",
    "]\n",
    "\n"
   ]
  },
  {
   "cell_type": "code",
   "execution_count": 115,
   "id": "7812407e",
   "metadata": {},
   "outputs": [],
   "source": [
    "def run_rag_pipeline(vector_store, queries, k=5, filters=None):\n",
    "    \"\"\"\n",
    "    Send queries to an LLM, having it take context from a vector store (and namespace).\n",
    "\n",
    "    :param vector_store: Your Pinecone vector store.\n",
    "    :param queries: The queries you want to ask your LLM.\n",
    "    :param k: The number of results you want retrieved as context from your Pinecone index.\n",
    "    :param filters: Option to add metadata filters to request if desired.\n",
    "    :return: Tuple of responses from your LLM.\n",
    "    \"\"\"\n",
    "\n",
    "    # Instantiate VectorStoreIndex object from our vector_store object\n",
    "    vector_index = VectorStoreIndex.from_vector_store(vector_store=vector_store)\n",
    "\n",
    "    if not filters:\n",
    "        retriever = VectorIndexRetriever(index=vector_index, similarity_top_k=k, namespace=vector_store.namespace)\n",
    "    else:\n",
    "        retriever = VectorIndexRetriever(index=vector_index, similarity_top_k=k, namespace=vector_store.namespace, filters=filters)\n",
    "\n",
    "    # Query engine\n",
    "    query_engine = RetrieverQueryEngine(retriever=retriever)\n",
    "\n",
    "    # Pass our 4 test queries\n",
    "    responses = ()\n",
    "    for i in queries:\n",
    "        response = query_engine.query(i).response\n",
    "        responses += (response, )\n",
    "\n",
    "    return responses"
   ]
  },
  {
   "cell_type": "code",
   "execution_count": 116,
   "id": "aac8b8cb",
   "metadata": {},
   "outputs": [],
   "source": [
    "one_ctrl, two_ctrl, three_ctrl, four_ctrl, five_ctrl, six_ctrl, seven_ctrl = run_rag_pipeline(ctrl_vector_store, QUERIES)\n"
   ]
  },
  {
   "cell_type": "code",
   "execution_count": 117,
   "id": "e6d7d652",
   "metadata": {
    "scrolled": true
   },
   "outputs": [
    {
     "name": "stdout",
     "output_type": "stream",
     "text": [
      "One: Jacksonville\n",
      "-----\n",
      "Two: 6\n",
      "-----\n",
      "Three: 100%\n",
      "-----\n",
      "Four: There are 47 unique property IDs in this data set.\n",
      "-----\n",
      "Five: The three largest refinances were for the properties associated with the following cities: Albuquerque, Buffalo, and New York.\n",
      "-----\n",
      "Six: The size of a refinanace does not necessarily correlate with the capacity of a multi family.\n",
      "-----\n",
      "Seven: The distinct categories of financing present in the data are \"Insured-Unsubsidized.\" This category typically refers to properties that have obtained insurance for their loans without receiving any additional subsidies from the government.\n",
      "\n"
     ]
    }
   ],
   "source": [
    "print(f\"One: {one_ctrl}\\n-----\\nTwo: {two_ctrl}\\n-----\\nThree: {three_ctrl}\\n-----\\nFour: {four_ctrl}\\n-----\\nFive: {five_ctrl}\\n-----\\nSix: {six_ctrl}\\n-----\\nSeven: {seven_ctrl}\\n\")"
   ]
  },
  {
   "cell_type": "code",
   "execution_count": null,
   "id": "5ec197bf",
   "metadata": {},
   "outputs": [],
   "source": []
  }
 ],
 "metadata": {
  "kernelspec": {
   "display_name": "Python 3 (ipykernel)",
   "language": "python",
   "name": "python3"
  },
  "language_info": {
   "codemirror_mode": {
    "name": "ipython",
    "version": 3
   },
   "file_extension": ".py",
   "mimetype": "text/x-python",
   "name": "python",
   "nbconvert_exporter": "python",
   "pygments_lexer": "ipython3",
   "version": "3.11.7"
  }
 },
 "nbformat": 4,
 "nbformat_minor": 5
}
