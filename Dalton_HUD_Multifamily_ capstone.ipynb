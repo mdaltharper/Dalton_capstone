{
 "cells": [
  {
   "cell_type": "code",
   "execution_count": 14,
   "id": "2c3c78bd",
   "metadata": {},
   "outputs": [],
   "source": [
    "import pandas as pd\n",
    "import matplotlib.pyplot as plt\n",
    "import seaborn as sns\n",
    "from sqlalchemy import create_engine, text\n",
    "import sqlite3"
   ]
  },
  {
   "cell_type": "code",
   "execution_count": 15,
   "id": "3a59f013",
   "metadata": {},
   "outputs": [
    {
     "name": "stderr",
     "output_type": "stream",
     "text": [
      "C:\\Users\\mdalt\\AppData\\Local\\Temp\\ipykernel_2296\\3926192688.py:1: DtypeWarning: Columns (2,19,22,35,36,41,89,90,91,92,95,103,109,111,121,123,125,126,127,164,169,170,176,205,209,217,274) have mixed types. Specify dtype option on import or set low_memory=False.\n",
      "  huddf = pd.read_csv('data/hud_insured_multifamily.csv')\n"
     ]
    }
   ],
   "source": [
    "huddf = pd.read_csv('data/hud_insured_multifamily.csv')"
   ]
  },
  {
   "cell_type": "code",
   "execution_count": 3,
   "id": "3a5b413a",
   "metadata": {},
   "outputs": [
    {
     "data": {
      "text/plain": [
       "<bound method NDFrame.head of        OBJECTID  PROPERTY_ID      UGLG_KEY HUB_NAME_TEXT  \\\n",
       "0           1.0  800225589.0       3457600           OHP   \n",
       "1           2.0  800225933.0       4878544  Headquarters   \n",
       "2           3.0  800225983.0       1711202           OHP   \n",
       "3           4.0  800226573.0       5327855           OHP   \n",
       "4           5.0  800226611.0       1379388           OHP   \n",
       "...         ...          ...           ...           ...   \n",
       "16519   16519.0  800254374.0  3401343800.0      New York   \n",
       "16520   16520.0  800255132.0     4829000.0    Fort Worth   \n",
       "16521   16521.0  800255134.0     1963525.0   Kansas City   \n",
       "16522   16522.0  800255144.0       24035.0     Baltimore   \n",
       "16523   16523.0  800255510.0     2674960.0       Detroit   \n",
       "\n",
       "      SERVICING_SITE_NAME_TEXT PROJECT_MANAGER_NAME_TEXT  \\\n",
       "0                          OHP                       NaN   \n",
       "1          Headquarters - BRSC          LESLEY N JOHNSON   \n",
       "2                          OHP                       NaN   \n",
       "3                          OHP                       NaN   \n",
       "4                          OHP                       NaN   \n",
       "...                        ...                       ...   \n",
       "16519                 New York           TAMIKA N PICOTT   \n",
       "16520               Fort Worth          BENNIE L BUNKLEY   \n",
       "16521              Kansas City              MARK E WAYNE   \n",
       "16522                Baltimore        MONISHA T GIDDINGS   \n",
       "16523                  Detroit        BEVERLEY D CRAMNER   \n",
       "\n",
       "                               PROPERTY_NAME_TEXT       ADDRESS_LINE1_TEXT  \\\n",
       "0                           Capital Health System    2500 Van Princis Lane   \n",
       "1       Oak Timbers - White Settlement Apartments    8301 Tumbleweed Trail   \n",
       "2                                     Carlinville  1001 East Morgan Street   \n",
       "3                       Coulee Community Hospital         411 fortuyn Road   \n",
       "4                 Meadows Regional Medical Center        1703 Meadows Lane   \n",
       "...                                           ...                      ...   \n",
       "16519                             Maplewood Lofts     1585 Springfield Ave   \n",
       "16520              Urban Village at Rosehill City        101 Rosehill Road   \n",
       "16521                       Yellowbanks by Kading   5756 S. Cottonwood Ln.   \n",
       "16522                        Slippery Hill Senior  320 Fallen Horse Circle   \n",
       "16523  REDWOOD SOUTHGATE (ALLEN RD MI P2) - PHASE        11801 Durham Road   \n",
       "\n",
       "      ADDRESS_LINE2_TEXT AUTOMATIC_GEOCODE_IND  ... CHLDRN_MBR_CNT  \\\n",
       "0                    NaN                     Y  ...           -4.0   \n",
       "1                    NaN                     Y  ...           -4.0   \n",
       "2                    NaN                     Y  ...           -4.0   \n",
       "3                    NaN                     Y  ...           -4.0   \n",
       "4                    NaN                     Y  ...           -4.0   \n",
       "...                  ...                   ...  ...            ...   \n",
       "16519                NaN                     Y  ...           -4.0   \n",
       "16520                NaN                     Y  ...           -4.0   \n",
       "16521                NaN                     Y  ...           -4.0   \n",
       "16522                NaN                     Y  ...           -4.0   \n",
       "16523                NaN                     Y  ...           -4.0   \n",
       "\n",
       "      ELDLY_PRCNT  PCT_DISABLED_LT62_ALL  PCT_LT80_MEDIAN MEDIAN_INC_AMNT  \\\n",
       "0            -4.0                   -4.0             -4.0            -4.0   \n",
       "1            -4.0                   -4.0             -4.0            -4.0   \n",
       "2            -4.0                   -4.0             -4.0            -4.0   \n",
       "3            -4.0                   -4.0             -4.0            -4.0   \n",
       "4            -4.0                   -4.0             -4.0            -4.0   \n",
       "...           ...                    ...              ...             ...   \n",
       "16519        -4.0                   -4.0             -4.0            -4.0   \n",
       "16520        -4.0                   -4.0             -4.0            -4.0   \n",
       "16521        -4.0                   -4.0             -4.0            -4.0   \n",
       "16522        -4.0                   -4.0             -4.0            -4.0   \n",
       "16523        -4.0                   -4.0             -4.0            -4.0   \n",
       "\n",
       "             LAST_UPDT_DTTM ANNL_EXPNS_AMNT ANNL_EXPNS_AMNT_PREV_YR  \\\n",
       "0      4/9/2024 10:29:23 PM            -4.0                    -4.0   \n",
       "1      4/9/2024 10:29:23 PM            -4.0                    -4.0   \n",
       "2      4/9/2024 10:29:23 PM            -4.0                    -4.0   \n",
       "3      4/9/2024 10:29:23 PM            -4.0                    -4.0   \n",
       "4      4/9/2024 10:29:23 PM            -4.0                    -4.0   \n",
       "...                     ...             ...                     ...   \n",
       "16519  4/9/2024 10:29:23 PM            -4.0                    -4.0   \n",
       "16520  4/9/2024 10:29:23 PM            -4.0                    -4.0   \n",
       "16521  4/9/2024 10:29:23 PM            -4.0                    -4.0   \n",
       "16522  4/9/2024 10:29:23 PM            -4.0                    -4.0   \n",
       "16523  4/9/2024 10:29:23 PM            -4.0                    -4.0   \n",
       "\n",
       "                  x             y  \n",
       "0     -8.325663e+06  4.913400e+06  \n",
       "1     -1.084962e+07  3.861319e+06  \n",
       "2     -1.000431e+07  4.762177e+06  \n",
       "3     -1.324765e+07  6.097248e+06  \n",
       "4     -9.171998e+06  3.790256e+06  \n",
       "...             ...           ...  \n",
       "16519 -8.266163e+06  4.971486e+06  \n",
       "16520 -1.075156e+07  3.874975e+06  \n",
       "16521 -1.040999e+07  5.099864e+06  \n",
       "16522 -8.483291e+06  4.715500e+06  \n",
       "16523 -9.264787e+06  5.194803e+06  \n",
       "\n",
       "[16524 rows x 286 columns]>"
      ]
     },
     "execution_count": 3,
     "metadata": {},
     "output_type": "execute_result"
    }
   ],
   "source": [
    "huddf.head"
   ]
  },
  {
   "cell_type": "code",
   "execution_count": 4,
   "id": "c2f89685",
   "metadata": {},
   "outputs": [
    {
     "name": "stdout",
     "output_type": "stream",
     "text": [
      "Requirement already satisfied: langchain in c:\\users\\mdalt\\anaconda3\\lib\\site-packages (0.2.3)\n",
      "Requirement already satisfied: PyYAML>=5.3 in c:\\users\\mdalt\\anaconda3\\lib\\site-packages (from langchain) (6.0.1)\n",
      "Requirement already satisfied: SQLAlchemy<3,>=1.4 in c:\\users\\mdalt\\anaconda3\\lib\\site-packages (from langchain) (2.0.29)\n",
      "Requirement already satisfied: aiohttp<4.0.0,>=3.8.3 in c:\\users\\mdalt\\anaconda3\\lib\\site-packages (from langchain) (3.9.3)\n",
      "Requirement already satisfied: langchain-core<0.3.0,>=0.2.0 in c:\\users\\mdalt\\anaconda3\\lib\\site-packages (from langchain) (0.2.5)\n",
      "Requirement already satisfied: langchain-text-splitters<0.3.0,>=0.2.0 in c:\\users\\mdalt\\anaconda3\\lib\\site-packages (from langchain) (0.2.1)\n",
      "Requirement already satisfied: langsmith<0.2.0,>=0.1.17 in c:\\users\\mdalt\\anaconda3\\lib\\site-packages (from langchain) (0.1.75)\n",
      "Requirement already satisfied: numpy<2,>=1 in c:\\users\\mdalt\\anaconda3\\lib\\site-packages (from langchain) (1.26.4)\n",
      "Requirement already satisfied: pydantic<3,>=1 in c:\\users\\mdalt\\anaconda3\\lib\\site-packages (from langchain) (1.10.12)\n",
      "Requirement already satisfied: requests<3,>=2 in c:\\users\\mdalt\\anaconda3\\lib\\site-packages (from langchain) (2.31.0)\n",
      "Requirement already satisfied: tenacity<9.0.0,>=8.1.0 in c:\\users\\mdalt\\anaconda3\\lib\\site-packages (from langchain) (8.2.2)\n",
      "Requirement already satisfied: aiosignal>=1.1.2 in c:\\users\\mdalt\\anaconda3\\lib\\site-packages (from aiohttp<4.0.0,>=3.8.3->langchain) (1.2.0)\n",
      "Requirement already satisfied: attrs>=17.3.0 in c:\\users\\mdalt\\anaconda3\\lib\\site-packages (from aiohttp<4.0.0,>=3.8.3->langchain) (23.1.0)\n",
      "Requirement already satisfied: frozenlist>=1.1.1 in c:\\users\\mdalt\\anaconda3\\lib\\site-packages (from aiohttp<4.0.0,>=3.8.3->langchain) (1.4.0)\n",
      "Requirement already satisfied: multidict<7.0,>=4.5 in c:\\users\\mdalt\\anaconda3\\lib\\site-packages (from aiohttp<4.0.0,>=3.8.3->langchain) (6.0.4)\n",
      "Requirement already satisfied: yarl<2.0,>=1.0 in c:\\users\\mdalt\\anaconda3\\lib\\site-packages (from aiohttp<4.0.0,>=3.8.3->langchain) (1.9.3)\n",
      "Requirement already satisfied: jsonpatch<2.0,>=1.33 in c:\\users\\mdalt\\anaconda3\\lib\\site-packages (from langchain-core<0.3.0,>=0.2.0->langchain) (1.33)\n",
      "Requirement already satisfied: packaging<24.0,>=23.2 in c:\\users\\mdalt\\anaconda3\\lib\\site-packages (from langchain-core<0.3.0,>=0.2.0->langchain) (23.2)\n",
      "Requirement already satisfied: orjson<4.0.0,>=3.9.14 in c:\\users\\mdalt\\anaconda3\\lib\\site-packages (from langsmith<0.2.0,>=0.1.17->langchain) (3.10.3)\n",
      "Requirement already satisfied: typing-extensions>=4.2.0 in c:\\users\\mdalt\\anaconda3\\lib\\site-packages (from pydantic<3,>=1->langchain) (4.9.0)\n",
      "Requirement already satisfied: charset-normalizer<4,>=2 in c:\\users\\mdalt\\anaconda3\\lib\\site-packages (from requests<3,>=2->langchain) (2.0.4)\n",
      "Requirement already satisfied: idna<4,>=2.5 in c:\\users\\mdalt\\anaconda3\\lib\\site-packages (from requests<3,>=2->langchain) (3.4)\n",
      "Requirement already satisfied: urllib3<3,>=1.21.1 in c:\\users\\mdalt\\anaconda3\\lib\\site-packages (from requests<3,>=2->langchain) (2.0.7)\n",
      "Requirement already satisfied: certifi>=2017.4.17 in c:\\users\\mdalt\\anaconda3\\lib\\site-packages (from requests<3,>=2->langchain) (2024.2.2)\n",
      "Requirement already satisfied: greenlet!=0.4.17 in c:\\users\\mdalt\\anaconda3\\lib\\site-packages (from SQLAlchemy<3,>=1.4->langchain) (3.0.1)\n",
      "Requirement already satisfied: jsonpointer>=1.9 in c:\\users\\mdalt\\anaconda3\\lib\\site-packages (from jsonpatch<2.0,>=1.33->langchain-core<0.3.0,>=0.2.0->langchain) (2.1)\n",
      "Note: you may need to restart the kernel to use updated packages.\n"
     ]
    }
   ],
   "source": [
    "pip install langchain\n"
   ]
  },
  {
   "cell_type": "code",
   "execution_count": 5,
   "id": "5c47506d",
   "metadata": {
    "scrolled": true
   },
   "outputs": [
    {
     "name": "stdout",
     "output_type": "stream",
     "text": [
      "Requirement already satisfied: langchain-pinecone in c:\\users\\mdalt\\anaconda3\\lib\\site-packages (0.1.1)\n",
      "Requirement already satisfied: langchain-core<0.3,>=0.1.52 in c:\\users\\mdalt\\anaconda3\\lib\\site-packages (from langchain-pinecone) (0.2.5)\n",
      "Requirement already satisfied: numpy<2,>=1 in c:\\users\\mdalt\\anaconda3\\lib\\site-packages (from langchain-pinecone) (1.26.4)\n",
      "Requirement already satisfied: pinecone-client<4.0.0,>=3.2.2 in c:\\users\\mdalt\\anaconda3\\lib\\site-packages (from langchain-pinecone) (3.2.2)\n",
      "Requirement already satisfied: PyYAML>=5.3 in c:\\users\\mdalt\\anaconda3\\lib\\site-packages (from langchain-core<0.3,>=0.1.52->langchain-pinecone) (6.0.1)\n",
      "Requirement already satisfied: jsonpatch<2.0,>=1.33 in c:\\users\\mdalt\\anaconda3\\lib\\site-packages (from langchain-core<0.3,>=0.1.52->langchain-pinecone) (1.33)\n",
      "Requirement already satisfied: langsmith<0.2.0,>=0.1.66 in c:\\users\\mdalt\\anaconda3\\lib\\site-packages (from langchain-core<0.3,>=0.1.52->langchain-pinecone) (0.1.75)\n",
      "Requirement already satisfied: packaging<24.0,>=23.2 in c:\\users\\mdalt\\anaconda3\\lib\\site-packages (from langchain-core<0.3,>=0.1.52->langchain-pinecone) (23.2)\n",
      "Requirement already satisfied: pydantic<3,>=1 in c:\\users\\mdalt\\anaconda3\\lib\\site-packages (from langchain-core<0.3,>=0.1.52->langchain-pinecone) (1.10.12)\n",
      "Requirement already satisfied: tenacity<9.0.0,>=8.1.0 in c:\\users\\mdalt\\anaconda3\\lib\\site-packages (from langchain-core<0.3,>=0.1.52->langchain-pinecone) (8.2.2)\n",
      "Requirement already satisfied: certifi>=2019.11.17 in c:\\users\\mdalt\\anaconda3\\lib\\site-packages (from pinecone-client<4.0.0,>=3.2.2->langchain-pinecone) (2024.2.2)\n",
      "Requirement already satisfied: tqdm>=4.64.1 in c:\\users\\mdalt\\anaconda3\\lib\\site-packages (from pinecone-client<4.0.0,>=3.2.2->langchain-pinecone) (4.65.0)\n",
      "Requirement already satisfied: typing-extensions>=3.7.4 in c:\\users\\mdalt\\anaconda3\\lib\\site-packages (from pinecone-client<4.0.0,>=3.2.2->langchain-pinecone) (4.9.0)\n",
      "Requirement already satisfied: urllib3>=1.26.0 in c:\\users\\mdalt\\anaconda3\\lib\\site-packages (from pinecone-client<4.0.0,>=3.2.2->langchain-pinecone) (2.0.7)\n",
      "Requirement already satisfied: jsonpointer>=1.9 in c:\\users\\mdalt\\anaconda3\\lib\\site-packages (from jsonpatch<2.0,>=1.33->langchain-core<0.3,>=0.1.52->langchain-pinecone) (2.1)\n",
      "Requirement already satisfied: orjson<4.0.0,>=3.9.14 in c:\\users\\mdalt\\anaconda3\\lib\\site-packages (from langsmith<0.2.0,>=0.1.66->langchain-core<0.3,>=0.1.52->langchain-pinecone) (3.10.3)\n",
      "Requirement already satisfied: requests<3,>=2 in c:\\users\\mdalt\\anaconda3\\lib\\site-packages (from langsmith<0.2.0,>=0.1.66->langchain-core<0.3,>=0.1.52->langchain-pinecone) (2.31.0)\n",
      "Requirement already satisfied: colorama in c:\\users\\mdalt\\anaconda3\\lib\\site-packages (from tqdm>=4.64.1->pinecone-client<4.0.0,>=3.2.2->langchain-pinecone) (0.4.6)\n",
      "Requirement already satisfied: charset-normalizer<4,>=2 in c:\\users\\mdalt\\anaconda3\\lib\\site-packages (from requests<3,>=2->langsmith<0.2.0,>=0.1.66->langchain-core<0.3,>=0.1.52->langchain-pinecone) (2.0.4)\n",
      "Requirement already satisfied: idna<4,>=2.5 in c:\\users\\mdalt\\anaconda3\\lib\\site-packages (from requests<3,>=2->langsmith<0.2.0,>=0.1.66->langchain-core<0.3,>=0.1.52->langchain-pinecone) (3.4)\n",
      "Note: you may need to restart the kernel to use updated packages.\n"
     ]
    }
   ],
   "source": [
    "pip install langchain-pinecone"
   ]
  },
  {
   "cell_type": "markdown",
   "id": "2ad9ef99",
   "metadata": {},
   "source": [
    "## Clean Data\n"
   ]
  },
  {
   "cell_type": "code",
   "execution_count": 6,
   "id": "c16679cf",
   "metadata": {},
   "outputs": [
    {
     "name": "stderr",
     "output_type": "stream",
     "text": [
      "C:\\Users\\mdalt\\AppData\\Local\\Temp\\ipykernel_2296\\3991870264.py:1: DtypeWarning: Columns (2,19,22,35,36,41,89,90,91,92,95,103,109,111,121,123,125,126,127,164,169,170,176,205,209,217,274) have mixed types. Specify dtype option on import or set low_memory=False.\n",
      "  raw_df = pd.read_csv('data/hud_insured_multifamily.csv')\n"
     ]
    }
   ],
   "source": [
    "raw_df = pd.read_csv('data/hud_insured_multifamily.csv')\n"
   ]
  },
  {
   "cell_type": "code",
   "execution_count": 7,
   "id": "92c37da5",
   "metadata": {},
   "outputs": [
    {
     "data": {
      "text/plain": [
       "<bound method NDFrame.head of        OBJECTID  PROPERTY_ID      UGLG_KEY HUB_NAME_TEXT  \\\n",
       "0           1.0  800225589.0       3457600           OHP   \n",
       "1           2.0  800225933.0       4878544  Headquarters   \n",
       "2           3.0  800225983.0       1711202           OHP   \n",
       "3           4.0  800226573.0       5327855           OHP   \n",
       "4           5.0  800226611.0       1379388           OHP   \n",
       "...         ...          ...           ...           ...   \n",
       "16519   16519.0  800254374.0  3401343800.0      New York   \n",
       "16520   16520.0  800255132.0     4829000.0    Fort Worth   \n",
       "16521   16521.0  800255134.0     1963525.0   Kansas City   \n",
       "16522   16522.0  800255144.0       24035.0     Baltimore   \n",
       "16523   16523.0  800255510.0     2674960.0       Detroit   \n",
       "\n",
       "      SERVICING_SITE_NAME_TEXT PROJECT_MANAGER_NAME_TEXT  \\\n",
       "0                          OHP                       NaN   \n",
       "1          Headquarters - BRSC          LESLEY N JOHNSON   \n",
       "2                          OHP                       NaN   \n",
       "3                          OHP                       NaN   \n",
       "4                          OHP                       NaN   \n",
       "...                        ...                       ...   \n",
       "16519                 New York           TAMIKA N PICOTT   \n",
       "16520               Fort Worth          BENNIE L BUNKLEY   \n",
       "16521              Kansas City              MARK E WAYNE   \n",
       "16522                Baltimore        MONISHA T GIDDINGS   \n",
       "16523                  Detroit        BEVERLEY D CRAMNER   \n",
       "\n",
       "                               PROPERTY_NAME_TEXT       ADDRESS_LINE1_TEXT  \\\n",
       "0                           Capital Health System    2500 Van Princis Lane   \n",
       "1       Oak Timbers - White Settlement Apartments    8301 Tumbleweed Trail   \n",
       "2                                     Carlinville  1001 East Morgan Street   \n",
       "3                       Coulee Community Hospital         411 fortuyn Road   \n",
       "4                 Meadows Regional Medical Center        1703 Meadows Lane   \n",
       "...                                           ...                      ...   \n",
       "16519                             Maplewood Lofts     1585 Springfield Ave   \n",
       "16520              Urban Village at Rosehill City        101 Rosehill Road   \n",
       "16521                       Yellowbanks by Kading   5756 S. Cottonwood Ln.   \n",
       "16522                        Slippery Hill Senior  320 Fallen Horse Circle   \n",
       "16523  REDWOOD SOUTHGATE (ALLEN RD MI P2) - PHASE        11801 Durham Road   \n",
       "\n",
       "      ADDRESS_LINE2_TEXT AUTOMATIC_GEOCODE_IND  ... CHLDRN_MBR_CNT  \\\n",
       "0                    NaN                     Y  ...           -4.0   \n",
       "1                    NaN                     Y  ...           -4.0   \n",
       "2                    NaN                     Y  ...           -4.0   \n",
       "3                    NaN                     Y  ...           -4.0   \n",
       "4                    NaN                     Y  ...           -4.0   \n",
       "...                  ...                   ...  ...            ...   \n",
       "16519                NaN                     Y  ...           -4.0   \n",
       "16520                NaN                     Y  ...           -4.0   \n",
       "16521                NaN                     Y  ...           -4.0   \n",
       "16522                NaN                     Y  ...           -4.0   \n",
       "16523                NaN                     Y  ...           -4.0   \n",
       "\n",
       "      ELDLY_PRCNT  PCT_DISABLED_LT62_ALL  PCT_LT80_MEDIAN MEDIAN_INC_AMNT  \\\n",
       "0            -4.0                   -4.0             -4.0            -4.0   \n",
       "1            -4.0                   -4.0             -4.0            -4.0   \n",
       "2            -4.0                   -4.0             -4.0            -4.0   \n",
       "3            -4.0                   -4.0             -4.0            -4.0   \n",
       "4            -4.0                   -4.0             -4.0            -4.0   \n",
       "...           ...                    ...              ...             ...   \n",
       "16519        -4.0                   -4.0             -4.0            -4.0   \n",
       "16520        -4.0                   -4.0             -4.0            -4.0   \n",
       "16521        -4.0                   -4.0             -4.0            -4.0   \n",
       "16522        -4.0                   -4.0             -4.0            -4.0   \n",
       "16523        -4.0                   -4.0             -4.0            -4.0   \n",
       "\n",
       "             LAST_UPDT_DTTM ANNL_EXPNS_AMNT ANNL_EXPNS_AMNT_PREV_YR  \\\n",
       "0      4/9/2024 10:29:23 PM            -4.0                    -4.0   \n",
       "1      4/9/2024 10:29:23 PM            -4.0                    -4.0   \n",
       "2      4/9/2024 10:29:23 PM            -4.0                    -4.0   \n",
       "3      4/9/2024 10:29:23 PM            -4.0                    -4.0   \n",
       "4      4/9/2024 10:29:23 PM            -4.0                    -4.0   \n",
       "...                     ...             ...                     ...   \n",
       "16519  4/9/2024 10:29:23 PM            -4.0                    -4.0   \n",
       "16520  4/9/2024 10:29:23 PM            -4.0                    -4.0   \n",
       "16521  4/9/2024 10:29:23 PM            -4.0                    -4.0   \n",
       "16522  4/9/2024 10:29:23 PM            -4.0                    -4.0   \n",
       "16523  4/9/2024 10:29:23 PM            -4.0                    -4.0   \n",
       "\n",
       "                  x             y  \n",
       "0     -8.325663e+06  4.913400e+06  \n",
       "1     -1.084962e+07  3.861319e+06  \n",
       "2     -1.000431e+07  4.762177e+06  \n",
       "3     -1.324765e+07  6.097248e+06  \n",
       "4     -9.171998e+06  3.790256e+06  \n",
       "...             ...           ...  \n",
       "16519 -8.266163e+06  4.971486e+06  \n",
       "16520 -1.075156e+07  3.874975e+06  \n",
       "16521 -1.040999e+07  5.099864e+06  \n",
       "16522 -8.483291e+06  4.715500e+06  \n",
       "16523 -9.264787e+06  5.194803e+06  \n",
       "\n",
       "[16524 rows x 286 columns]>"
      ]
     },
     "execution_count": 7,
     "metadata": {},
     "output_type": "execute_result"
    }
   ],
   "source": [
    "raw_df.head"
   ]
  },
  {
   "cell_type": "code",
   "execution_count": 8,
   "id": "ef5f450a",
   "metadata": {},
   "outputs": [],
   "source": [
    "raw_df = raw_df.drop(columns=[\"PROPERTY_ID\", \"UGLG_KEY\", \"AUTOMATIC_GEOCODE_IND\"])"
   ]
  },
  {
   "cell_type": "code",
   "execution_count": 9,
   "id": "edcd9f31",
   "metadata": {},
   "outputs": [],
   "source": [
    "raw_df = raw_df.dropna()"
   ]
  },
  {
   "cell_type": "code",
   "execution_count": 10,
   "id": "e97533c3",
   "metadata": {},
   "outputs": [],
   "source": [
    "raw_df = raw_df.fillna(0)\n"
   ]
  },
  {
   "cell_type": "code",
   "execution_count": 11,
   "id": "31b03d0c",
   "metadata": {},
   "outputs": [],
   "source": [
    "raw_df.to_csv(('data/hud_insured_multifamily_clean.csv'), index=False)"
   ]
  },
  {
   "cell_type": "markdown",
   "id": "dfe98fd8",
   "metadata": {},
   "source": [
    "## SQL + QUESTIONS + ANSWERS"
   ]
  },
  {
   "cell_type": "code",
   "execution_count": 28,
   "id": "4e90a950",
   "metadata": {},
   "outputs": [],
   "source": [
    "## connect to a db\n",
    "conn = sqlite3.connect('database.db')\n",
    "\n",
    "create_table_command = \"\"\"\n",
    "CREATE TABLE IF NOT EXISTS HUD_Insured_Multifamily_Properties (\n",
    "    ID INTEGER PRIMARY KEY,\n",
    "    ROOMS INTEGER,\n",
    "    BATHROOMS INTEGER,\n",
    "    UNITS INTEGER,\n",
    "    STORIES INTEGER\n",
    ")\n",
    "\"\"\"\n",
    "\n",
    "# Function to execute the create table command\n",
    "def execute_create_table(conn):\n",
    "    conn.execute(create_table_command)\n",
    "    conn.commit()\n",
    "\n",
    "# Call the function to create the table\n",
    "execute_create_table(conn)\n"
   ]
  },
  {
   "cell_type": "code",
   "execution_count": 37,
   "id": "acd634a0",
   "metadata": {},
   "outputs": [],
   "source": [
    "# Function to insert individual values into the table\n",
    "def insert_values_into_table(conn, id, rooms, bathrooms, units, stories):\n",
    "    sql = \"\"\"\n",
    "    INSERT INTO HUD_Insured_Multifamily_Properties (ID, ROOMS, BATHROOMS, UNITS, STORIES)\n",
    "    VALUES (?, ?, ?, ?, ?)\n",
    "    \"\"\"\n",
    "    cur = conn.cursor()\n",
    "    cur.execute(sql, (id, rooms, bathrooms, units, stories))\n",
    "    conn.commit()\n"
   ]
  },
  {
   "cell_type": "code",
   "execution_count": 38,
   "id": "39eca99d",
   "metadata": {},
   "outputs": [],
   "source": [
    "# Function to insert values into the table from a CSV file\n",
    "def insert_values_from_csv(conn, csv_file_path):\n",
    "    df = pd.read_csv(csv_file_path)"
   ]
  },
  {
   "cell_type": "code",
   "execution_count": 39,
   "id": "36bfb2bb",
   "metadata": {},
   "outputs": [],
   "source": [
    "# Insert values into the table from a CSV file\n",
    "insert_values_from_csv(conn, 'data/hud_insured_multifamily_clean.csv')\n",
    "\n",
    "\n",
    "# Query the table\n",
    "table = pd.read_sql_query(\"SELECT * FROM HUD_Insured_Multifamily_Properties\", conn)\n",
    "\n",
    "# Make sure to close the connection when done\n",
    "conn.close()\n"
   ]
  },
  {
   "cell_type": "code",
   "execution_count": 40,
   "id": "d82237fb",
   "metadata": {},
   "outputs": [],
   "source": [
    "# Create a database connection\n",
    "conn = sqlite3.connect('database.db')\n"
   ]
  },
  {
   "cell_type": "code",
   "execution_count": 41,
   "id": "9dc2f77e",
   "metadata": {},
   "outputs": [],
   "source": [
    "# Insert values into the table from a CSV file\n",
    "insert_values_from_csv(conn, 'data/hud_insured_multifamily_clean.csv')"
   ]
  },
  {
   "cell_type": "code",
   "execution_count": 42,
   "id": "b1e59af2",
   "metadata": {},
   "outputs": [],
   "source": [
    "# Query the table\n",
    "table = pd.read_sql_query(\"SELECT * FROM HUD_Insured_Multifamily_Properties\", conn)\n"
   ]
  },
  {
   "cell_type": "code",
   "execution_count": 43,
   "id": "9e3a0708",
   "metadata": {},
   "outputs": [],
   "source": [
    "# Make sure to close the connection when done\n",
    "conn.close()"
   ]
  },
  {
   "cell_type": "code",
   "execution_count": 44,
   "id": "4a663e06",
   "metadata": {},
   "outputs": [],
   "source": [
    "### answer the questions\n",
    "questions = [\n",
    "    \"What is the average number of rooms per property?\",\n",
    "    \"What is the average number of bathrooms per property?\",\n",
    "    \"What is the average number of units per property?\",\n",
    "    \"What is the average number of stories per property?\",\n",
    "    \"What is the average number of units per property?\",\n",
    "]"
   ]
  },
  {
   "cell_type": "code",
   "execution_count": 51,
   "id": "153eea99",
   "metadata": {},
   "outputs": [
    {
     "name": "stdout",
     "output_type": "stream",
     "text": [
      "[None]\n"
     ]
    }
   ],
   "source": [
    "# Database connection\n",
    "database = 'database.db'\n",
    "\n",
    "# Blank array to store answers to the questions\n",
    "answers = []\n",
    "\n",
    "# Connect to the database using a context manager\n",
    "with sqlite3.connect(database) as conn:\n",
    "    # Query to calculate the average number of rooms per property\n",
    "    query_1 = \"SELECT AVG(ROOMS) FROM HUD_Insured_Multifamily_Properties\"\n",
    "    \n",
    "    # Execute the query and append the result to the answers list\n",
    "    answers.append(conn.execute(query_1).fetchone()[0])\n",
    "\n",
    "# Output the result\n",
    "print(answers)"
   ]
  },
  {
   "cell_type": "code",
   "execution_count": 56,
   "id": "4065b81a",
   "metadata": {},
   "outputs": [],
   "source": [
    "### what is the average number of bathrooms per property?\n",
    "query_2 = \"\"\"\n",
    "SELECT AVG(BATHROOMS) FROM HUD_Insured_Multifamily_Properties\n",
    "\"\"\"\n",
    "\n",
    "answers.append(conn.execute(query_2).fetchone()[0])\n"
   ]
  },
  {
   "cell_type": "code",
   "execution_count": 58,
   "id": "0bfb5025",
   "metadata": {},
   "outputs": [
    {
     "ename": "ValueError",
     "evalue": "All arrays must be of the same length",
     "output_type": "error",
     "traceback": [
      "\u001b[1;31m---------------------------------------------------------------------------\u001b[0m",
      "\u001b[1;31mValueError\u001b[0m                                Traceback (most recent call last)",
      "Cell \u001b[1;32mIn[58], line 6\u001b[0m\n\u001b[0;32m      1\u001b[0m \u001b[38;5;66;03m# Ensure that 'questions' and 'answers' are defined as lists before this code\u001b[39;00m\n\u001b[0;32m      2\u001b[0m \u001b[38;5;66;03m# questions = ['Question 1', 'Question 2', ...]\u001b[39;00m\n\u001b[0;32m      3\u001b[0m \u001b[38;5;66;03m# answers = ['Answer 1', 'Answer 2', ...]\u001b[39;00m\n\u001b[0;32m      4\u001b[0m \n\u001b[0;32m      5\u001b[0m \u001b[38;5;66;03m# Create a DataFrame from questions and answers\u001b[39;00m\n\u001b[1;32m----> 6\u001b[0m querys_and_answers \u001b[38;5;241m=\u001b[39m pd\u001b[38;5;241m.\u001b[39mDataFrame({\n\u001b[0;32m      7\u001b[0m     \u001b[38;5;124m\"\u001b[39m\u001b[38;5;124mQuestions\u001b[39m\u001b[38;5;124m\"\u001b[39m: questions,\n\u001b[0;32m      8\u001b[0m     \u001b[38;5;124m\"\u001b[39m\u001b[38;5;124mAnswers\u001b[39m\u001b[38;5;124m\"\u001b[39m: answers\n\u001b[0;32m      9\u001b[0m })\n\u001b[0;32m     11\u001b[0m \u001b[38;5;66;03m# Export the DataFrame to a CSV file without the index\u001b[39;00m\n\u001b[0;32m     12\u001b[0m querys_and_answers\u001b[38;5;241m.\u001b[39mto_csv(\u001b[38;5;124m'\u001b[39m\u001b[38;5;124mdata/Questions_and_Answers.csv\u001b[39m\u001b[38;5;124m'\u001b[39m, index\u001b[38;5;241m=\u001b[39m\u001b[38;5;28;01mFalse\u001b[39;00m)\n",
      "File \u001b[1;32m~\\anaconda3\\Lib\\site-packages\\pandas\\core\\frame.py:733\u001b[0m, in \u001b[0;36mDataFrame.__init__\u001b[1;34m(self, data, index, columns, dtype, copy)\u001b[0m\n\u001b[0;32m    727\u001b[0m     mgr \u001b[38;5;241m=\u001b[39m \u001b[38;5;28mself\u001b[39m\u001b[38;5;241m.\u001b[39m_init_mgr(\n\u001b[0;32m    728\u001b[0m         data, axes\u001b[38;5;241m=\u001b[39m{\u001b[38;5;124m\"\u001b[39m\u001b[38;5;124mindex\u001b[39m\u001b[38;5;124m\"\u001b[39m: index, \u001b[38;5;124m\"\u001b[39m\u001b[38;5;124mcolumns\u001b[39m\u001b[38;5;124m\"\u001b[39m: columns}, dtype\u001b[38;5;241m=\u001b[39mdtype, copy\u001b[38;5;241m=\u001b[39mcopy\n\u001b[0;32m    729\u001b[0m     )\n\u001b[0;32m    731\u001b[0m \u001b[38;5;28;01melif\u001b[39;00m \u001b[38;5;28misinstance\u001b[39m(data, \u001b[38;5;28mdict\u001b[39m):\n\u001b[0;32m    732\u001b[0m     \u001b[38;5;66;03m# GH#38939 de facto copy defaults to False only in non-dict cases\u001b[39;00m\n\u001b[1;32m--> 733\u001b[0m     mgr \u001b[38;5;241m=\u001b[39m dict_to_mgr(data, index, columns, dtype\u001b[38;5;241m=\u001b[39mdtype, copy\u001b[38;5;241m=\u001b[39mcopy, typ\u001b[38;5;241m=\u001b[39mmanager)\n\u001b[0;32m    734\u001b[0m \u001b[38;5;28;01melif\u001b[39;00m \u001b[38;5;28misinstance\u001b[39m(data, ma\u001b[38;5;241m.\u001b[39mMaskedArray):\n\u001b[0;32m    735\u001b[0m     \u001b[38;5;28;01mfrom\u001b[39;00m \u001b[38;5;21;01mnumpy\u001b[39;00m\u001b[38;5;21;01m.\u001b[39;00m\u001b[38;5;21;01mma\u001b[39;00m \u001b[38;5;28;01mimport\u001b[39;00m mrecords\n",
      "File \u001b[1;32m~\\anaconda3\\Lib\\site-packages\\pandas\\core\\internals\\construction.py:503\u001b[0m, in \u001b[0;36mdict_to_mgr\u001b[1;34m(data, index, columns, dtype, typ, copy)\u001b[0m\n\u001b[0;32m    499\u001b[0m     \u001b[38;5;28;01melse\u001b[39;00m:\n\u001b[0;32m    500\u001b[0m         \u001b[38;5;66;03m# dtype check to exclude e.g. range objects, scalars\u001b[39;00m\n\u001b[0;32m    501\u001b[0m         arrays \u001b[38;5;241m=\u001b[39m [x\u001b[38;5;241m.\u001b[39mcopy() \u001b[38;5;28;01mif\u001b[39;00m \u001b[38;5;28mhasattr\u001b[39m(x, \u001b[38;5;124m\"\u001b[39m\u001b[38;5;124mdtype\u001b[39m\u001b[38;5;124m\"\u001b[39m) \u001b[38;5;28;01melse\u001b[39;00m x \u001b[38;5;28;01mfor\u001b[39;00m x \u001b[38;5;129;01min\u001b[39;00m arrays]\n\u001b[1;32m--> 503\u001b[0m \u001b[38;5;28;01mreturn\u001b[39;00m arrays_to_mgr(arrays, columns, index, dtype\u001b[38;5;241m=\u001b[39mdtype, typ\u001b[38;5;241m=\u001b[39mtyp, consolidate\u001b[38;5;241m=\u001b[39mcopy)\n",
      "File \u001b[1;32m~\\anaconda3\\Lib\\site-packages\\pandas\\core\\internals\\construction.py:114\u001b[0m, in \u001b[0;36marrays_to_mgr\u001b[1;34m(arrays, columns, index, dtype, verify_integrity, typ, consolidate)\u001b[0m\n\u001b[0;32m    111\u001b[0m \u001b[38;5;28;01mif\u001b[39;00m verify_integrity:\n\u001b[0;32m    112\u001b[0m     \u001b[38;5;66;03m# figure out the index, if necessary\u001b[39;00m\n\u001b[0;32m    113\u001b[0m     \u001b[38;5;28;01mif\u001b[39;00m index \u001b[38;5;129;01mis\u001b[39;00m \u001b[38;5;28;01mNone\u001b[39;00m:\n\u001b[1;32m--> 114\u001b[0m         index \u001b[38;5;241m=\u001b[39m _extract_index(arrays)\n\u001b[0;32m    115\u001b[0m     \u001b[38;5;28;01melse\u001b[39;00m:\n\u001b[0;32m    116\u001b[0m         index \u001b[38;5;241m=\u001b[39m ensure_index(index)\n",
      "File \u001b[1;32m~\\anaconda3\\Lib\\site-packages\\pandas\\core\\internals\\construction.py:677\u001b[0m, in \u001b[0;36m_extract_index\u001b[1;34m(data)\u001b[0m\n\u001b[0;32m    675\u001b[0m lengths \u001b[38;5;241m=\u001b[39m \u001b[38;5;28mlist\u001b[39m(\u001b[38;5;28mset\u001b[39m(raw_lengths))\n\u001b[0;32m    676\u001b[0m \u001b[38;5;28;01mif\u001b[39;00m \u001b[38;5;28mlen\u001b[39m(lengths) \u001b[38;5;241m>\u001b[39m \u001b[38;5;241m1\u001b[39m:\n\u001b[1;32m--> 677\u001b[0m     \u001b[38;5;28;01mraise\u001b[39;00m \u001b[38;5;167;01mValueError\u001b[39;00m(\u001b[38;5;124m\"\u001b[39m\u001b[38;5;124mAll arrays must be of the same length\u001b[39m\u001b[38;5;124m\"\u001b[39m)\n\u001b[0;32m    679\u001b[0m \u001b[38;5;28;01mif\u001b[39;00m have_dicts:\n\u001b[0;32m    680\u001b[0m     \u001b[38;5;28;01mraise\u001b[39;00m \u001b[38;5;167;01mValueError\u001b[39;00m(\n\u001b[0;32m    681\u001b[0m         \u001b[38;5;124m\"\u001b[39m\u001b[38;5;124mMixing dicts with non-Series may lead to ambiguous ordering.\u001b[39m\u001b[38;5;124m\"\u001b[39m\n\u001b[0;32m    682\u001b[0m     )\n",
      "\u001b[1;31mValueError\u001b[0m: All arrays must be of the same length"
     ]
    }
   ],
   "source": [
    "# Ensure that 'questions' and 'answers' are defined as lists before this code\n",
    "# questions = ['Question 1', 'Question 2', ...]\n",
    "# answers = ['Answer 1', 'Answer 2', ...]\n",
    "\n",
    "# Create a DataFrame from questions and answers\n",
    "querys_and_answers = pd.DataFrame({\n",
    "    \"Questions\": questions,\n",
    "    \"Answers\": answers\n",
    "})\n",
    "\n",
    "# Export the DataFrame to a CSV file without the index\n",
    "querys_and_answers.to_csv('data/Questions_and_Answers.csv', index=False)\n"
   ]
  },
  {
   "cell_type": "code",
   "execution_count": null,
   "id": "87700fc3",
   "metadata": {},
   "outputs": [],
   "source": []
  }
 ],
 "metadata": {
  "kernelspec": {
   "display_name": "Python 3 (ipykernel)",
   "language": "python",
   "name": "python3"
  },
  "language_info": {
   "codemirror_mode": {
    "name": "ipython",
    "version": 3
   },
   "file_extension": ".py",
   "mimetype": "text/x-python",
   "name": "python",
   "nbconvert_exporter": "python",
   "pygments_lexer": "ipython3",
   "version": "3.11.7"
  }
 },
 "nbformat": 4,
 "nbformat_minor": 5
}
