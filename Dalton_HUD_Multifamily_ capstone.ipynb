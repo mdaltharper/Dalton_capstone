{
 "cells": [
  {
   "cell_type": "code",
   "execution_count": 9,
   "id": "2c3c78bd",
   "metadata": {},
   "outputs": [],
   "source": [
    "import pandas as pd\n",
    "import matplotlib.pyplot as plt\n",
    "import seaborn as sns\n",
    "from sqlalchemy import create_engine, text\n"
   ]
  },
  {
   "cell_type": "code",
   "execution_count": 4,
   "id": "3a59f013",
   "metadata": {},
   "outputs": [
    {
     "name": "stderr",
     "output_type": "stream",
     "text": [
      "C:\\Users\\mdalt\\AppData\\Local\\Temp\\ipykernel_15760\\3926192688.py:1: DtypeWarning: Columns (2,19,22,35,36,41,89,90,91,92,95,103,109,111,121,123,125,126,127,164,169,170,176,205,209,217,274) have mixed types. Specify dtype option on import or set low_memory=False.\n",
      "  huddf = pd.read_csv('data/hud_insured_multifamily.csv')\n"
     ]
    }
   ],
   "source": [
    "huddf = pd.read_csv('data/hud_insured_multifamily.csv')"
   ]
  },
  {
   "cell_type": "code",
   "execution_count": 5,
   "id": "3a5b413a",
   "metadata": {},
   "outputs": [
    {
     "data": {
      "text/plain": [
       "<bound method NDFrame.head of        OBJECTID  PROPERTY_ID      UGLG_KEY HUB_NAME_TEXT  \\\n",
       "0           1.0  800225589.0       3457600           OHP   \n",
       "1           2.0  800225933.0       4878544  Headquarters   \n",
       "2           3.0  800225983.0       1711202           OHP   \n",
       "3           4.0  800226573.0       5327855           OHP   \n",
       "4           5.0  800226611.0       1379388           OHP   \n",
       "...         ...          ...           ...           ...   \n",
       "16519   16519.0  800254374.0  3401343800.0      New York   \n",
       "16520   16520.0  800255132.0     4829000.0    Fort Worth   \n",
       "16521   16521.0  800255134.0     1963525.0   Kansas City   \n",
       "16522   16522.0  800255144.0       24035.0     Baltimore   \n",
       "16523   16523.0  800255510.0     2674960.0       Detroit   \n",
       "\n",
       "      SERVICING_SITE_NAME_TEXT PROJECT_MANAGER_NAME_TEXT  \\\n",
       "0                          OHP                       NaN   \n",
       "1          Headquarters - BRSC          LESLEY N JOHNSON   \n",
       "2                          OHP                       NaN   \n",
       "3                          OHP                       NaN   \n",
       "4                          OHP                       NaN   \n",
       "...                        ...                       ...   \n",
       "16519                 New York           TAMIKA N PICOTT   \n",
       "16520               Fort Worth          BENNIE L BUNKLEY   \n",
       "16521              Kansas City              MARK E WAYNE   \n",
       "16522                Baltimore        MONISHA T GIDDINGS   \n",
       "16523                  Detroit        BEVERLEY D CRAMNER   \n",
       "\n",
       "                               PROPERTY_NAME_TEXT       ADDRESS_LINE1_TEXT  \\\n",
       "0                           Capital Health System    2500 Van Princis Lane   \n",
       "1       Oak Timbers - White Settlement Apartments    8301 Tumbleweed Trail   \n",
       "2                                     Carlinville  1001 East Morgan Street   \n",
       "3                       Coulee Community Hospital         411 fortuyn Road   \n",
       "4                 Meadows Regional Medical Center        1703 Meadows Lane   \n",
       "...                                           ...                      ...   \n",
       "16519                             Maplewood Lofts     1585 Springfield Ave   \n",
       "16520              Urban Village at Rosehill City        101 Rosehill Road   \n",
       "16521                       Yellowbanks by Kading   5756 S. Cottonwood Ln.   \n",
       "16522                        Slippery Hill Senior  320 Fallen Horse Circle   \n",
       "16523  REDWOOD SOUTHGATE (ALLEN RD MI P2) - PHASE        11801 Durham Road   \n",
       "\n",
       "      ADDRESS_LINE2_TEXT AUTOMATIC_GEOCODE_IND  ... CHLDRN_MBR_CNT  \\\n",
       "0                    NaN                     Y  ...           -4.0   \n",
       "1                    NaN                     Y  ...           -4.0   \n",
       "2                    NaN                     Y  ...           -4.0   \n",
       "3                    NaN                     Y  ...           -4.0   \n",
       "4                    NaN                     Y  ...           -4.0   \n",
       "...                  ...                   ...  ...            ...   \n",
       "16519                NaN                     Y  ...           -4.0   \n",
       "16520                NaN                     Y  ...           -4.0   \n",
       "16521                NaN                     Y  ...           -4.0   \n",
       "16522                NaN                     Y  ...           -4.0   \n",
       "16523                NaN                     Y  ...           -4.0   \n",
       "\n",
       "      ELDLY_PRCNT  PCT_DISABLED_LT62_ALL  PCT_LT80_MEDIAN MEDIAN_INC_AMNT  \\\n",
       "0            -4.0                   -4.0             -4.0            -4.0   \n",
       "1            -4.0                   -4.0             -4.0            -4.0   \n",
       "2            -4.0                   -4.0             -4.0            -4.0   \n",
       "3            -4.0                   -4.0             -4.0            -4.0   \n",
       "4            -4.0                   -4.0             -4.0            -4.0   \n",
       "...           ...                    ...              ...             ...   \n",
       "16519        -4.0                   -4.0             -4.0            -4.0   \n",
       "16520        -4.0                   -4.0             -4.0            -4.0   \n",
       "16521        -4.0                   -4.0             -4.0            -4.0   \n",
       "16522        -4.0                   -4.0             -4.0            -4.0   \n",
       "16523        -4.0                   -4.0             -4.0            -4.0   \n",
       "\n",
       "             LAST_UPDT_DTTM ANNL_EXPNS_AMNT ANNL_EXPNS_AMNT_PREV_YR  \\\n",
       "0      4/9/2024 10:29:23 PM            -4.0                    -4.0   \n",
       "1      4/9/2024 10:29:23 PM            -4.0                    -4.0   \n",
       "2      4/9/2024 10:29:23 PM            -4.0                    -4.0   \n",
       "3      4/9/2024 10:29:23 PM            -4.0                    -4.0   \n",
       "4      4/9/2024 10:29:23 PM            -4.0                    -4.0   \n",
       "...                     ...             ...                     ...   \n",
       "16519  4/9/2024 10:29:23 PM            -4.0                    -4.0   \n",
       "16520  4/9/2024 10:29:23 PM            -4.0                    -4.0   \n",
       "16521  4/9/2024 10:29:23 PM            -4.0                    -4.0   \n",
       "16522  4/9/2024 10:29:23 PM            -4.0                    -4.0   \n",
       "16523  4/9/2024 10:29:23 PM            -4.0                    -4.0   \n",
       "\n",
       "                  x             y  \n",
       "0     -8.325663e+06  4.913400e+06  \n",
       "1     -1.084962e+07  3.861319e+06  \n",
       "2     -1.000431e+07  4.762177e+06  \n",
       "3     -1.324765e+07  6.097248e+06  \n",
       "4     -9.171998e+06  3.790256e+06  \n",
       "...             ...           ...  \n",
       "16519 -8.266163e+06  4.971486e+06  \n",
       "16520 -1.075156e+07  3.874975e+06  \n",
       "16521 -1.040999e+07  5.099864e+06  \n",
       "16522 -8.483291e+06  4.715500e+06  \n",
       "16523 -9.264787e+06  5.194803e+06  \n",
       "\n",
       "[16524 rows x 286 columns]>"
      ]
     },
     "execution_count": 5,
     "metadata": {},
     "output_type": "execute_result"
    }
   ],
   "source": [
    "huddf.head"
   ]
  },
  {
   "cell_type": "code",
   "execution_count": 7,
   "id": "c2f89685",
   "metadata": {},
   "outputs": [
    {
     "name": "stdout",
     "output_type": "stream",
     "text": [
      "Requirement already satisfied: langchain in c:\\users\\mdalt\\anaconda3\\lib\\site-packages (0.2.3)\n",
      "Requirement already satisfied: PyYAML>=5.3 in c:\\users\\mdalt\\anaconda3\\lib\\site-packages (from langchain) (6.0.1)\n",
      "Requirement already satisfied: SQLAlchemy<3,>=1.4 in c:\\users\\mdalt\\anaconda3\\lib\\site-packages (from langchain) (2.0.29)\n",
      "Requirement already satisfied: aiohttp<4.0.0,>=3.8.3 in c:\\users\\mdalt\\anaconda3\\lib\\site-packages (from langchain) (3.9.3)\n",
      "Requirement already satisfied: langchain-core<0.3.0,>=0.2.0 in c:\\users\\mdalt\\anaconda3\\lib\\site-packages (from langchain) (0.2.5)\n",
      "Requirement already satisfied: langchain-text-splitters<0.3.0,>=0.2.0 in c:\\users\\mdalt\\anaconda3\\lib\\site-packages (from langchain) (0.2.1)\n",
      "Requirement already satisfied: langsmith<0.2.0,>=0.1.17 in c:\\users\\mdalt\\anaconda3\\lib\\site-packages (from langchain) (0.1.75)\n",
      "Requirement already satisfied: numpy<2,>=1 in c:\\users\\mdalt\\anaconda3\\lib\\site-packages (from langchain) (1.26.4)\n",
      "Requirement already satisfied: pydantic<3,>=1 in c:\\users\\mdalt\\anaconda3\\lib\\site-packages (from langchain) (1.10.12)\n",
      "Requirement already satisfied: requests<3,>=2 in c:\\users\\mdalt\\anaconda3\\lib\\site-packages (from langchain) (2.31.0)\n",
      "Requirement already satisfied: tenacity<9.0.0,>=8.1.0 in c:\\users\\mdalt\\anaconda3\\lib\\site-packages (from langchain) (8.2.2)\n",
      "Requirement already satisfied: aiosignal>=1.1.2 in c:\\users\\mdalt\\anaconda3\\lib\\site-packages (from aiohttp<4.0.0,>=3.8.3->langchain) (1.2.0)\n",
      "Requirement already satisfied: attrs>=17.3.0 in c:\\users\\mdalt\\anaconda3\\lib\\site-packages (from aiohttp<4.0.0,>=3.8.3->langchain) (23.1.0)\n",
      "Requirement already satisfied: frozenlist>=1.1.1 in c:\\users\\mdalt\\anaconda3\\lib\\site-packages (from aiohttp<4.0.0,>=3.8.3->langchain) (1.4.0)\n",
      "Requirement already satisfied: multidict<7.0,>=4.5 in c:\\users\\mdalt\\anaconda3\\lib\\site-packages (from aiohttp<4.0.0,>=3.8.3->langchain) (6.0.4)\n",
      "Requirement already satisfied: yarl<2.0,>=1.0 in c:\\users\\mdalt\\anaconda3\\lib\\site-packages (from aiohttp<4.0.0,>=3.8.3->langchain) (1.9.3)\n",
      "Requirement already satisfied: jsonpatch<2.0,>=1.33 in c:\\users\\mdalt\\anaconda3\\lib\\site-packages (from langchain-core<0.3.0,>=0.2.0->langchain) (1.33)\n",
      "Requirement already satisfied: packaging<24.0,>=23.2 in c:\\users\\mdalt\\anaconda3\\lib\\site-packages (from langchain-core<0.3.0,>=0.2.0->langchain) (23.2)\n",
      "Requirement already satisfied: orjson<4.0.0,>=3.9.14 in c:\\users\\mdalt\\anaconda3\\lib\\site-packages (from langsmith<0.2.0,>=0.1.17->langchain) (3.10.3)\n",
      "Requirement already satisfied: typing-extensions>=4.2.0 in c:\\users\\mdalt\\anaconda3\\lib\\site-packages (from pydantic<3,>=1->langchain) (4.9.0)\n",
      "Requirement already satisfied: charset-normalizer<4,>=2 in c:\\users\\mdalt\\anaconda3\\lib\\site-packages (from requests<3,>=2->langchain) (2.0.4)\n",
      "Requirement already satisfied: idna<4,>=2.5 in c:\\users\\mdalt\\anaconda3\\lib\\site-packages (from requests<3,>=2->langchain) (3.4)\n",
      "Requirement already satisfied: urllib3<3,>=1.21.1 in c:\\users\\mdalt\\anaconda3\\lib\\site-packages (from requests<3,>=2->langchain) (2.0.7)\n",
      "Requirement already satisfied: certifi>=2017.4.17 in c:\\users\\mdalt\\anaconda3\\lib\\site-packages (from requests<3,>=2->langchain) (2024.2.2)\n",
      "Requirement already satisfied: greenlet!=0.4.17 in c:\\users\\mdalt\\anaconda3\\lib\\site-packages (from SQLAlchemy<3,>=1.4->langchain) (3.0.1)\n",
      "Requirement already satisfied: jsonpointer>=1.9 in c:\\users\\mdalt\\anaconda3\\lib\\site-packages (from jsonpatch<2.0,>=1.33->langchain-core<0.3.0,>=0.2.0->langchain) (2.1)\n",
      "Note: you may need to restart the kernel to use updated packages.\n"
     ]
    }
   ],
   "source": [
    "pip install langchain\n"
   ]
  },
  {
   "cell_type": "code",
   "execution_count": 8,
   "id": "5c47506d",
   "metadata": {},
   "outputs": [
    {
     "name": "stdout",
     "output_type": "stream",
     "text": [
      "Collecting langchain-pinecone\n",
      "  Downloading langchain_pinecone-0.1.1-py3-none-any.whl.metadata (1.4 kB)\n",
      "Requirement already satisfied: langchain-core<0.3,>=0.1.52 in c:\\users\\mdalt\\anaconda3\\lib\\site-packages (from langchain-pinecone) (0.2.5)\n",
      "Requirement already satisfied: numpy<2,>=1 in c:\\users\\mdalt\\anaconda3\\lib\\site-packages (from langchain-pinecone) (1.26.4)\n",
      "Collecting pinecone-client<4.0.0,>=3.2.2 (from langchain-pinecone)\n",
      "  Downloading pinecone_client-3.2.2-py3-none-any.whl.metadata (16 kB)\n",
      "Requirement already satisfied: PyYAML>=5.3 in c:\\users\\mdalt\\anaconda3\\lib\\site-packages (from langchain-core<0.3,>=0.1.52->langchain-pinecone) (6.0.1)\n",
      "Requirement already satisfied: jsonpatch<2.0,>=1.33 in c:\\users\\mdalt\\anaconda3\\lib\\site-packages (from langchain-core<0.3,>=0.1.52->langchain-pinecone) (1.33)\n",
      "Requirement already satisfied: langsmith<0.2.0,>=0.1.66 in c:\\users\\mdalt\\anaconda3\\lib\\site-packages (from langchain-core<0.3,>=0.1.52->langchain-pinecone) (0.1.75)\n",
      "Requirement already satisfied: packaging<24.0,>=23.2 in c:\\users\\mdalt\\anaconda3\\lib\\site-packages (from langchain-core<0.3,>=0.1.52->langchain-pinecone) (23.2)\n",
      "Requirement already satisfied: pydantic<3,>=1 in c:\\users\\mdalt\\anaconda3\\lib\\site-packages (from langchain-core<0.3,>=0.1.52->langchain-pinecone) (1.10.12)\n",
      "Requirement already satisfied: tenacity<9.0.0,>=8.1.0 in c:\\users\\mdalt\\anaconda3\\lib\\site-packages (from langchain-core<0.3,>=0.1.52->langchain-pinecone) (8.2.2)\n",
      "Requirement already satisfied: certifi>=2019.11.17 in c:\\users\\mdalt\\anaconda3\\lib\\site-packages (from pinecone-client<4.0.0,>=3.2.2->langchain-pinecone) (2024.2.2)\n",
      "Requirement already satisfied: tqdm>=4.64.1 in c:\\users\\mdalt\\anaconda3\\lib\\site-packages (from pinecone-client<4.0.0,>=3.2.2->langchain-pinecone) (4.65.0)\n",
      "Requirement already satisfied: typing-extensions>=3.7.4 in c:\\users\\mdalt\\anaconda3\\lib\\site-packages (from pinecone-client<4.0.0,>=3.2.2->langchain-pinecone) (4.9.0)\n",
      "Requirement already satisfied: urllib3>=1.26.0 in c:\\users\\mdalt\\anaconda3\\lib\\site-packages (from pinecone-client<4.0.0,>=3.2.2->langchain-pinecone) (2.0.7)\n",
      "Requirement already satisfied: jsonpointer>=1.9 in c:\\users\\mdalt\\anaconda3\\lib\\site-packages (from jsonpatch<2.0,>=1.33->langchain-core<0.3,>=0.1.52->langchain-pinecone) (2.1)\n",
      "Requirement already satisfied: orjson<4.0.0,>=3.9.14 in c:\\users\\mdalt\\anaconda3\\lib\\site-packages (from langsmith<0.2.0,>=0.1.66->langchain-core<0.3,>=0.1.52->langchain-pinecone) (3.10.3)\n",
      "Requirement already satisfied: requests<3,>=2 in c:\\users\\mdalt\\anaconda3\\lib\\site-packages (from langsmith<0.2.0,>=0.1.66->langchain-core<0.3,>=0.1.52->langchain-pinecone) (2.31.0)\n",
      "Requirement already satisfied: colorama in c:\\users\\mdalt\\anaconda3\\lib\\site-packages (from tqdm>=4.64.1->pinecone-client<4.0.0,>=3.2.2->langchain-pinecone) (0.4.6)\n",
      "Requirement already satisfied: charset-normalizer<4,>=2 in c:\\users\\mdalt\\anaconda3\\lib\\site-packages (from requests<3,>=2->langsmith<0.2.0,>=0.1.66->langchain-core<0.3,>=0.1.52->langchain-pinecone) (2.0.4)\n",
      "Requirement already satisfied: idna<4,>=2.5 in c:\\users\\mdalt\\anaconda3\\lib\\site-packages (from requests<3,>=2->langsmith<0.2.0,>=0.1.66->langchain-core<0.3,>=0.1.52->langchain-pinecone) (3.4)\n",
      "Downloading langchain_pinecone-0.1.1-py3-none-any.whl (8.4 kB)\n",
      "Downloading pinecone_client-3.2.2-py3-none-any.whl (215 kB)\n",
      "   ---------------------------------------- 0.0/215.9 kB ? eta -:--:--\n",
      "   ----------- ---------------------------- 61.4/215.9 kB 1.1 MB/s eta 0:00:01\n",
      "   ---------------------------------------- 215.9/215.9 kB 2.6 MB/s eta 0:00:00\n",
      "Installing collected packages: pinecone-client, langchain-pinecone\n",
      "Successfully installed langchain-pinecone-0.1.1 pinecone-client-3.2.2\n",
      "Note: you may need to restart the kernel to use updated packages.\n"
     ]
    }
   ],
   "source": [
    "pip install langchain-pinecone"
   ]
  },
  {
   "cell_type": "markdown",
   "id": "f446bd91",
   "metadata": {},
   "source": [
    "“Can an LLM answer the questions? How does it do with easy stuff, how does it do with harder stuff, how easy is it to break (e.g., give me 10 nursing homes that start with the letter A), how does performance improve given a change in the input style / format” "
   ]
  },
  {
   "cell_type": "markdown",
   "id": "6feda1bb",
   "metadata": {},
   "source": [
    "## give me 10 nursing homes that start with the letter A)"
   ]
  }
 ],
 "metadata": {
  "kernelspec": {
   "display_name": "Python 3 (ipykernel)",
   "language": "python",
   "name": "python3"
  },
  "language_info": {
   "codemirror_mode": {
    "name": "ipython",
    "version": 3
   },
   "file_extension": ".py",
   "mimetype": "text/x-python",
   "name": "python",
   "nbconvert_exporter": "python",
   "pygments_lexer": "ipython3",
   "version": "3.11.7"
  }
 },
 "nbformat": 4,
 "nbformat_minor": 5
}
