{
 "cells": [
  {
   "cell_type": "code",
   "execution_count": 14,
   "id": "2c3c78bd",
   "metadata": {},
   "outputs": [],
   "source": [
    "import pandas as pd\n",
    "import matplotlib.pyplot as plt\n",
    "import seaborn as sns\n",
    "from sqlalchemy import create_engine, text\n",
    "import sqlite3"
   ]
  },
  {
   "cell_type": "code",
   "execution_count": 15,
   "id": "3a59f013",
   "metadata": {},
   "outputs": [
    {
     "name": "stderr",
     "output_type": "stream",
     "text": [
      "C:\\Users\\mdalt\\AppData\\Local\\Temp\\ipykernel_2296\\3926192688.py:1: DtypeWarning: Columns (2,19,22,35,36,41,89,90,91,92,95,103,109,111,121,123,125,126,127,164,169,170,176,205,209,217,274) have mixed types. Specify dtype option on import or set low_memory=False.\n",
      "  huddf = pd.read_csv('data/hud_insured_multifamily.csv')\n"
     ]
    }
   ],
   "source": [
    "huddf = pd.read_csv('data/hud_insured_multifamily.csv')"
   ]
  },
  {
   "cell_type": "code",
   "execution_count": 3,
   "id": "3a5b413a",
   "metadata": {},
   "outputs": [
    {
     "data": {
      "text/plain": [
       "<bound method NDFrame.head of        OBJECTID  PROPERTY_ID      UGLG_KEY HUB_NAME_TEXT  \\\n",
       "0           1.0  800225589.0       3457600           OHP   \n",
       "1           2.0  800225933.0       4878544  Headquarters   \n",
       "2           3.0  800225983.0       1711202           OHP   \n",
       "3           4.0  800226573.0       5327855           OHP   \n",
       "4           5.0  800226611.0       1379388           OHP   \n",
       "...         ...          ...           ...           ...   \n",
       "16519   16519.0  800254374.0  3401343800.0      New York   \n",
       "16520   16520.0  800255132.0     4829000.0    Fort Worth   \n",
       "16521   16521.0  800255134.0     1963525.0   Kansas City   \n",
       "16522   16522.0  800255144.0       24035.0     Baltimore   \n",
       "16523   16523.0  800255510.0     2674960.0       Detroit   \n",
       "\n",
       "      SERVICING_SITE_NAME_TEXT PROJECT_MANAGER_NAME_TEXT  \\\n",
       "0                          OHP                       NaN   \n",
       "1          Headquarters - BRSC          LESLEY N JOHNSON   \n",
       "2                          OHP                       NaN   \n",
       "3                          OHP                       NaN   \n",
       "4                          OHP                       NaN   \n",
       "...                        ...                       ...   \n",
       "16519                 New York           TAMIKA N PICOTT   \n",
       "16520               Fort Worth          BENNIE L BUNKLEY   \n",
       "16521              Kansas City              MARK E WAYNE   \n",
       "16522                Baltimore        MONISHA T GIDDINGS   \n",
       "16523                  Detroit        BEVERLEY D CRAMNER   \n",
       "\n",
       "                               PROPERTY_NAME_TEXT       ADDRESS_LINE1_TEXT  \\\n",
       "0                           Capital Health System    2500 Van Princis Lane   \n",
       "1       Oak Timbers - White Settlement Apartments    8301 Tumbleweed Trail   \n",
       "2                                     Carlinville  1001 East Morgan Street   \n",
       "3                       Coulee Community Hospital         411 fortuyn Road   \n",
       "4                 Meadows Regional Medical Center        1703 Meadows Lane   \n",
       "...                                           ...                      ...   \n",
       "16519                             Maplewood Lofts     1585 Springfield Ave   \n",
       "16520              Urban Village at Rosehill City        101 Rosehill Road   \n",
       "16521                       Yellowbanks by Kading   5756 S. Cottonwood Ln.   \n",
       "16522                        Slippery Hill Senior  320 Fallen Horse Circle   \n",
       "16523  REDWOOD SOUTHGATE (ALLEN RD MI P2) - PHASE        11801 Durham Road   \n",
       "\n",
       "      ADDRESS_LINE2_TEXT AUTOMATIC_GEOCODE_IND  ... CHLDRN_MBR_CNT  \\\n",
       "0                    NaN                     Y  ...           -4.0   \n",
       "1                    NaN                     Y  ...           -4.0   \n",
       "2                    NaN                     Y  ...           -4.0   \n",
       "3                    NaN                     Y  ...           -4.0   \n",
       "4                    NaN                     Y  ...           -4.0   \n",
       "...                  ...                   ...  ...            ...   \n",
       "16519                NaN                     Y  ...           -4.0   \n",
       "16520                NaN                     Y  ...           -4.0   \n",
       "16521                NaN                     Y  ...           -4.0   \n",
       "16522                NaN                     Y  ...           -4.0   \n",
       "16523                NaN                     Y  ...           -4.0   \n",
       "\n",
       "      ELDLY_PRCNT  PCT_DISABLED_LT62_ALL  PCT_LT80_MEDIAN MEDIAN_INC_AMNT  \\\n",
       "0            -4.0                   -4.0             -4.0            -4.0   \n",
       "1            -4.0                   -4.0             -4.0            -4.0   \n",
       "2            -4.0                   -4.0             -4.0            -4.0   \n",
       "3            -4.0                   -4.0             -4.0            -4.0   \n",
       "4            -4.0                   -4.0             -4.0            -4.0   \n",
       "...           ...                    ...              ...             ...   \n",
       "16519        -4.0                   -4.0             -4.0            -4.0   \n",
       "16520        -4.0                   -4.0             -4.0            -4.0   \n",
       "16521        -4.0                   -4.0             -4.0            -4.0   \n",
       "16522        -4.0                   -4.0             -4.0            -4.0   \n",
       "16523        -4.0                   -4.0             -4.0            -4.0   \n",
       "\n",
       "             LAST_UPDT_DTTM ANNL_EXPNS_AMNT ANNL_EXPNS_AMNT_PREV_YR  \\\n",
       "0      4/9/2024 10:29:23 PM            -4.0                    -4.0   \n",
       "1      4/9/2024 10:29:23 PM            -4.0                    -4.0   \n",
       "2      4/9/2024 10:29:23 PM            -4.0                    -4.0   \n",
       "3      4/9/2024 10:29:23 PM            -4.0                    -4.0   \n",
       "4      4/9/2024 10:29:23 PM            -4.0                    -4.0   \n",
       "...                     ...             ...                     ...   \n",
       "16519  4/9/2024 10:29:23 PM            -4.0                    -4.0   \n",
       "16520  4/9/2024 10:29:23 PM            -4.0                    -4.0   \n",
       "16521  4/9/2024 10:29:23 PM            -4.0                    -4.0   \n",
       "16522  4/9/2024 10:29:23 PM            -4.0                    -4.0   \n",
       "16523  4/9/2024 10:29:23 PM            -4.0                    -4.0   \n",
       "\n",
       "                  x             y  \n",
       "0     -8.325663e+06  4.913400e+06  \n",
       "1     -1.084962e+07  3.861319e+06  \n",
       "2     -1.000431e+07  4.762177e+06  \n",
       "3     -1.324765e+07  6.097248e+06  \n",
       "4     -9.171998e+06  3.790256e+06  \n",
       "...             ...           ...  \n",
       "16519 -8.266163e+06  4.971486e+06  \n",
       "16520 -1.075156e+07  3.874975e+06  \n",
       "16521 -1.040999e+07  5.099864e+06  \n",
       "16522 -8.483291e+06  4.715500e+06  \n",
       "16523 -9.264787e+06  5.194803e+06  \n",
       "\n",
       "[16524 rows x 286 columns]>"
      ]
     },
     "execution_count": 3,
     "metadata": {},
     "output_type": "execute_result"
    }
   ],
   "source": [
    "huddf.head"
   ]
  },
  {
   "cell_type": "code",
   "execution_count": 4,
   "id": "c2f89685",
   "metadata": {},
   "outputs": [
    {
     "name": "stdout",
     "output_type": "stream",
     "text": [
      "Requirement already satisfied: langchain in c:\\users\\mdalt\\anaconda3\\lib\\site-packages (0.2.3)\n",
      "Requirement already satisfied: PyYAML>=5.3 in c:\\users\\mdalt\\anaconda3\\lib\\site-packages (from langchain) (6.0.1)\n",
      "Requirement already satisfied: SQLAlchemy<3,>=1.4 in c:\\users\\mdalt\\anaconda3\\lib\\site-packages (from langchain) (2.0.29)\n",
      "Requirement already satisfied: aiohttp<4.0.0,>=3.8.3 in c:\\users\\mdalt\\anaconda3\\lib\\site-packages (from langchain) (3.9.3)\n",
      "Requirement already satisfied: langchain-core<0.3.0,>=0.2.0 in c:\\users\\mdalt\\anaconda3\\lib\\site-packages (from langchain) (0.2.5)\n",
      "Requirement already satisfied: langchain-text-splitters<0.3.0,>=0.2.0 in c:\\users\\mdalt\\anaconda3\\lib\\site-packages (from langchain) (0.2.1)\n",
      "Requirement already satisfied: langsmith<0.2.0,>=0.1.17 in c:\\users\\mdalt\\anaconda3\\lib\\site-packages (from langchain) (0.1.75)\n",
      "Requirement already satisfied: numpy<2,>=1 in c:\\users\\mdalt\\anaconda3\\lib\\site-packages (from langchain) (1.26.4)\n",
      "Requirement already satisfied: pydantic<3,>=1 in c:\\users\\mdalt\\anaconda3\\lib\\site-packages (from langchain) (1.10.12)\n",
      "Requirement already satisfied: requests<3,>=2 in c:\\users\\mdalt\\anaconda3\\lib\\site-packages (from langchain) (2.31.0)\n",
      "Requirement already satisfied: tenacity<9.0.0,>=8.1.0 in c:\\users\\mdalt\\anaconda3\\lib\\site-packages (from langchain) (8.2.2)\n",
      "Requirement already satisfied: aiosignal>=1.1.2 in c:\\users\\mdalt\\anaconda3\\lib\\site-packages (from aiohttp<4.0.0,>=3.8.3->langchain) (1.2.0)\n",
      "Requirement already satisfied: attrs>=17.3.0 in c:\\users\\mdalt\\anaconda3\\lib\\site-packages (from aiohttp<4.0.0,>=3.8.3->langchain) (23.1.0)\n",
      "Requirement already satisfied: frozenlist>=1.1.1 in c:\\users\\mdalt\\anaconda3\\lib\\site-packages (from aiohttp<4.0.0,>=3.8.3->langchain) (1.4.0)\n",
      "Requirement already satisfied: multidict<7.0,>=4.5 in c:\\users\\mdalt\\anaconda3\\lib\\site-packages (from aiohttp<4.0.0,>=3.8.3->langchain) (6.0.4)\n",
      "Requirement already satisfied: yarl<2.0,>=1.0 in c:\\users\\mdalt\\anaconda3\\lib\\site-packages (from aiohttp<4.0.0,>=3.8.3->langchain) (1.9.3)\n",
      "Requirement already satisfied: jsonpatch<2.0,>=1.33 in c:\\users\\mdalt\\anaconda3\\lib\\site-packages (from langchain-core<0.3.0,>=0.2.0->langchain) (1.33)\n",
      "Requirement already satisfied: packaging<24.0,>=23.2 in c:\\users\\mdalt\\anaconda3\\lib\\site-packages (from langchain-core<0.3.0,>=0.2.0->langchain) (23.2)\n",
      "Requirement already satisfied: orjson<4.0.0,>=3.9.14 in c:\\users\\mdalt\\anaconda3\\lib\\site-packages (from langsmith<0.2.0,>=0.1.17->langchain) (3.10.3)\n",
      "Requirement already satisfied: typing-extensions>=4.2.0 in c:\\users\\mdalt\\anaconda3\\lib\\site-packages (from pydantic<3,>=1->langchain) (4.9.0)\n",
      "Requirement already satisfied: charset-normalizer<4,>=2 in c:\\users\\mdalt\\anaconda3\\lib\\site-packages (from requests<3,>=2->langchain) (2.0.4)\n",
      "Requirement already satisfied: idna<4,>=2.5 in c:\\users\\mdalt\\anaconda3\\lib\\site-packages (from requests<3,>=2->langchain) (3.4)\n",
      "Requirement already satisfied: urllib3<3,>=1.21.1 in c:\\users\\mdalt\\anaconda3\\lib\\site-packages (from requests<3,>=2->langchain) (2.0.7)\n",
      "Requirement already satisfied: certifi>=2017.4.17 in c:\\users\\mdalt\\anaconda3\\lib\\site-packages (from requests<3,>=2->langchain) (2024.2.2)\n",
      "Requirement already satisfied: greenlet!=0.4.17 in c:\\users\\mdalt\\anaconda3\\lib\\site-packages (from SQLAlchemy<3,>=1.4->langchain) (3.0.1)\n",
      "Requirement already satisfied: jsonpointer>=1.9 in c:\\users\\mdalt\\anaconda3\\lib\\site-packages (from jsonpatch<2.0,>=1.33->langchain-core<0.3.0,>=0.2.0->langchain) (2.1)\n",
      "Note: you may need to restart the kernel to use updated packages.\n"
     ]
    }
   ],
   "source": [
    "pip install langchain\n"
   ]
  },
  {
   "cell_type": "code",
   "execution_count": 5,
   "id": "5c47506d",
   "metadata": {
    "scrolled": true
   },
   "outputs": [
    {
     "name": "stdout",
     "output_type": "stream",
     "text": [
      "Requirement already satisfied: langchain-pinecone in c:\\users\\mdalt\\anaconda3\\lib\\site-packages (0.1.1)\n",
      "Requirement already satisfied: langchain-core<0.3,>=0.1.52 in c:\\users\\mdalt\\anaconda3\\lib\\site-packages (from langchain-pinecone) (0.2.5)\n",
      "Requirement already satisfied: numpy<2,>=1 in c:\\users\\mdalt\\anaconda3\\lib\\site-packages (from langchain-pinecone) (1.26.4)\n",
      "Requirement already satisfied: pinecone-client<4.0.0,>=3.2.2 in c:\\users\\mdalt\\anaconda3\\lib\\site-packages (from langchain-pinecone) (3.2.2)\n",
      "Requirement already satisfied: PyYAML>=5.3 in c:\\users\\mdalt\\anaconda3\\lib\\site-packages (from langchain-core<0.3,>=0.1.52->langchain-pinecone) (6.0.1)\n",
      "Requirement already satisfied: jsonpatch<2.0,>=1.33 in c:\\users\\mdalt\\anaconda3\\lib\\site-packages (from langchain-core<0.3,>=0.1.52->langchain-pinecone) (1.33)\n",
      "Requirement already satisfied: langsmith<0.2.0,>=0.1.66 in c:\\users\\mdalt\\anaconda3\\lib\\site-packages (from langchain-core<0.3,>=0.1.52->langchain-pinecone) (0.1.75)\n",
      "Requirement already satisfied: packaging<24.0,>=23.2 in c:\\users\\mdalt\\anaconda3\\lib\\site-packages (from langchain-core<0.3,>=0.1.52->langchain-pinecone) (23.2)\n",
      "Requirement already satisfied: pydantic<3,>=1 in c:\\users\\mdalt\\anaconda3\\lib\\site-packages (from langchain-core<0.3,>=0.1.52->langchain-pinecone) (1.10.12)\n",
      "Requirement already satisfied: tenacity<9.0.0,>=8.1.0 in c:\\users\\mdalt\\anaconda3\\lib\\site-packages (from langchain-core<0.3,>=0.1.52->langchain-pinecone) (8.2.2)\n",
      "Requirement already satisfied: certifi>=2019.11.17 in c:\\users\\mdalt\\anaconda3\\lib\\site-packages (from pinecone-client<4.0.0,>=3.2.2->langchain-pinecone) (2024.2.2)\n",
      "Requirement already satisfied: tqdm>=4.64.1 in c:\\users\\mdalt\\anaconda3\\lib\\site-packages (from pinecone-client<4.0.0,>=3.2.2->langchain-pinecone) (4.65.0)\n",
      "Requirement already satisfied: typing-extensions>=3.7.4 in c:\\users\\mdalt\\anaconda3\\lib\\site-packages (from pinecone-client<4.0.0,>=3.2.2->langchain-pinecone) (4.9.0)\n",
      "Requirement already satisfied: urllib3>=1.26.0 in c:\\users\\mdalt\\anaconda3\\lib\\site-packages (from pinecone-client<4.0.0,>=3.2.2->langchain-pinecone) (2.0.7)\n",
      "Requirement already satisfied: jsonpointer>=1.9 in c:\\users\\mdalt\\anaconda3\\lib\\site-packages (from jsonpatch<2.0,>=1.33->langchain-core<0.3,>=0.1.52->langchain-pinecone) (2.1)\n",
      "Requirement already satisfied: orjson<4.0.0,>=3.9.14 in c:\\users\\mdalt\\anaconda3\\lib\\site-packages (from langsmith<0.2.0,>=0.1.66->langchain-core<0.3,>=0.1.52->langchain-pinecone) (3.10.3)\n",
      "Requirement already satisfied: requests<3,>=2 in c:\\users\\mdalt\\anaconda3\\lib\\site-packages (from langsmith<0.2.0,>=0.1.66->langchain-core<0.3,>=0.1.52->langchain-pinecone) (2.31.0)\n",
      "Requirement already satisfied: colorama in c:\\users\\mdalt\\anaconda3\\lib\\site-packages (from tqdm>=4.64.1->pinecone-client<4.0.0,>=3.2.2->langchain-pinecone) (0.4.6)\n",
      "Requirement already satisfied: charset-normalizer<4,>=2 in c:\\users\\mdalt\\anaconda3\\lib\\site-packages (from requests<3,>=2->langsmith<0.2.0,>=0.1.66->langchain-core<0.3,>=0.1.52->langchain-pinecone) (2.0.4)\n",
      "Requirement already satisfied: idna<4,>=2.5 in c:\\users\\mdalt\\anaconda3\\lib\\site-packages (from requests<3,>=2->langsmith<0.2.0,>=0.1.66->langchain-core<0.3,>=0.1.52->langchain-pinecone) (3.4)\n",
      "Note: you may need to restart the kernel to use updated packages.\n"
     ]
    }
   ],
   "source": [
    "pip install langchain-pinecone"
   ]
  },
  {
   "cell_type": "markdown",
   "id": "90e53ded",
   "metadata": {},
   "source": [
    "## Clean Data\n"
   ]
  },
  {
   "cell_type": "code",
   "execution_count": 6,
   "id": "49221bac",
   "metadata": {},
   "outputs": [
    {
     "name": "stderr",
     "output_type": "stream",
     "text": [
      "C:\\Users\\mdalt\\AppData\\Local\\Temp\\ipykernel_2296\\3991870264.py:1: DtypeWarning: Columns (2,19,22,35,36,41,89,90,91,92,95,103,109,111,121,123,125,126,127,164,169,170,176,205,209,217,274) have mixed types. Specify dtype option on import or set low_memory=False.\n",
      "  raw_df = pd.read_csv('data/hud_insured_multifamily.csv')\n"
     ]
    }
   ],
   "source": [
    "raw_df = pd.read_csv('data/hud_insured_multifamily.csv')\n"
   ]
  },
  {
   "cell_type": "code",
   "execution_count": 7,
   "id": "92c37da5",
   "metadata": {},
   "outputs": [
    {
     "data": {
      "text/plain": [
       "<bound method NDFrame.head of        OBJECTID  PROPERTY_ID      UGLG_KEY HUB_NAME_TEXT  \\\n",
       "0           1.0  800225589.0       3457600           OHP   \n",
       "1           2.0  800225933.0       4878544  Headquarters   \n",
       "2           3.0  800225983.0       1711202           OHP   \n",
       "3           4.0  800226573.0       5327855           OHP   \n",
       "4           5.0  800226611.0       1379388           OHP   \n",
       "...         ...          ...           ...           ...   \n",
       "16519   16519.0  800254374.0  3401343800.0      New York   \n",
       "16520   16520.0  800255132.0     4829000.0    Fort Worth   \n",
       "16521   16521.0  800255134.0     1963525.0   Kansas City   \n",
       "16522   16522.0  800255144.0       24035.0     Baltimore   \n",
       "16523   16523.0  800255510.0     2674960.0       Detroit   \n",
       "\n",
       "      SERVICING_SITE_NAME_TEXT PROJECT_MANAGER_NAME_TEXT  \\\n",
       "0                          OHP                       NaN   \n",
       "1          Headquarters - BRSC          LESLEY N JOHNSON   \n",
       "2                          OHP                       NaN   \n",
       "3                          OHP                       NaN   \n",
       "4                          OHP                       NaN   \n",
       "...                        ...                       ...   \n",
       "16519                 New York           TAMIKA N PICOTT   \n",
       "16520               Fort Worth          BENNIE L BUNKLEY   \n",
       "16521              Kansas City              MARK E WAYNE   \n",
       "16522                Baltimore        MONISHA T GIDDINGS   \n",
       "16523                  Detroit        BEVERLEY D CRAMNER   \n",
       "\n",
       "                               PROPERTY_NAME_TEXT       ADDRESS_LINE1_TEXT  \\\n",
       "0                           Capital Health System    2500 Van Princis Lane   \n",
       "1       Oak Timbers - White Settlement Apartments    8301 Tumbleweed Trail   \n",
       "2                                     Carlinville  1001 East Morgan Street   \n",
       "3                       Coulee Community Hospital         411 fortuyn Road   \n",
       "4                 Meadows Regional Medical Center        1703 Meadows Lane   \n",
       "...                                           ...                      ...   \n",
       "16519                             Maplewood Lofts     1585 Springfield Ave   \n",
       "16520              Urban Village at Rosehill City        101 Rosehill Road   \n",
       "16521                       Yellowbanks by Kading   5756 S. Cottonwood Ln.   \n",
       "16522                        Slippery Hill Senior  320 Fallen Horse Circle   \n",
       "16523  REDWOOD SOUTHGATE (ALLEN RD MI P2) - PHASE        11801 Durham Road   \n",
       "\n",
       "      ADDRESS_LINE2_TEXT AUTOMATIC_GEOCODE_IND  ... CHLDRN_MBR_CNT  \\\n",
       "0                    NaN                     Y  ...           -4.0   \n",
       "1                    NaN                     Y  ...           -4.0   \n",
       "2                    NaN                     Y  ...           -4.0   \n",
       "3                    NaN                     Y  ...           -4.0   \n",
       "4                    NaN                     Y  ...           -4.0   \n",
       "...                  ...                   ...  ...            ...   \n",
       "16519                NaN                     Y  ...           -4.0   \n",
       "16520                NaN                     Y  ...           -4.0   \n",
       "16521                NaN                     Y  ...           -4.0   \n",
       "16522                NaN                     Y  ...           -4.0   \n",
       "16523                NaN                     Y  ...           -4.0   \n",
       "\n",
       "      ELDLY_PRCNT  PCT_DISABLED_LT62_ALL  PCT_LT80_MEDIAN MEDIAN_INC_AMNT  \\\n",
       "0            -4.0                   -4.0             -4.0            -4.0   \n",
       "1            -4.0                   -4.0             -4.0            -4.0   \n",
       "2            -4.0                   -4.0             -4.0            -4.0   \n",
       "3            -4.0                   -4.0             -4.0            -4.0   \n",
       "4            -4.0                   -4.0             -4.0            -4.0   \n",
       "...           ...                    ...              ...             ...   \n",
       "16519        -4.0                   -4.0             -4.0            -4.0   \n",
       "16520        -4.0                   -4.0             -4.0            -4.0   \n",
       "16521        -4.0                   -4.0             -4.0            -4.0   \n",
       "16522        -4.0                   -4.0             -4.0            -4.0   \n",
       "16523        -4.0                   -4.0             -4.0            -4.0   \n",
       "\n",
       "             LAST_UPDT_DTTM ANNL_EXPNS_AMNT ANNL_EXPNS_AMNT_PREV_YR  \\\n",
       "0      4/9/2024 10:29:23 PM            -4.0                    -4.0   \n",
       "1      4/9/2024 10:29:23 PM            -4.0                    -4.0   \n",
       "2      4/9/2024 10:29:23 PM            -4.0                    -4.0   \n",
       "3      4/9/2024 10:29:23 PM            -4.0                    -4.0   \n",
       "4      4/9/2024 10:29:23 PM            -4.0                    -4.0   \n",
       "...                     ...             ...                     ...   \n",
       "16519  4/9/2024 10:29:23 PM            -4.0                    -4.0   \n",
       "16520  4/9/2024 10:29:23 PM            -4.0                    -4.0   \n",
       "16521  4/9/2024 10:29:23 PM            -4.0                    -4.0   \n",
       "16522  4/9/2024 10:29:23 PM            -4.0                    -4.0   \n",
       "16523  4/9/2024 10:29:23 PM            -4.0                    -4.0   \n",
       "\n",
       "                  x             y  \n",
       "0     -8.325663e+06  4.913400e+06  \n",
       "1     -1.084962e+07  3.861319e+06  \n",
       "2     -1.000431e+07  4.762177e+06  \n",
       "3     -1.324765e+07  6.097248e+06  \n",
       "4     -9.171998e+06  3.790256e+06  \n",
       "...             ...           ...  \n",
       "16519 -8.266163e+06  4.971486e+06  \n",
       "16520 -1.075156e+07  3.874975e+06  \n",
       "16521 -1.040999e+07  5.099864e+06  \n",
       "16522 -8.483291e+06  4.715500e+06  \n",
       "16523 -9.264787e+06  5.194803e+06  \n",
       "\n",
       "[16524 rows x 286 columns]>"
      ]
     },
     "execution_count": 7,
     "metadata": {},
     "output_type": "execute_result"
    }
   ],
   "source": [
    "raw_df.head"
   ]
  },
  {
   "cell_type": "code",
   "execution_count": 8,
   "id": "967acc7f",
   "metadata": {},
   "outputs": [],
   "source": [
    "raw_df = raw_df.drop(columns=[\"PROPERTY_ID\", \"UGLG_KEY\", \"AUTOMATIC_GEOCODE_IND\"])"
   ]
  },
  {
   "cell_type": "code",
   "execution_count": 9,
   "id": "eebbbfbd",
   "metadata": {},
   "outputs": [],
   "source": [
    "raw_df = raw_df.dropna()"
   ]
  },
  {
   "cell_type": "code",
   "execution_count": 10,
   "id": "030e8623",
   "metadata": {},
   "outputs": [],
   "source": [
    "raw_df = raw_df.fillna(0)\n"
   ]
  },
  {
   "cell_type": "code",
   "execution_count": 11,
   "id": "e4305b1d",
   "metadata": {},
   "outputs": [],
   "source": [
    "raw_df.to_csv(('data/hud_insured_multifamily_clean.csv'), index=False)"
   ]
  },
  {
   "cell_type": "markdown",
   "id": "51c9e1c2",
   "metadata": {},
   "source": [
    "## SQL + ANSWERS"
   ]
  },
  {
   "cell_type": "code",
   "execution_count": 18,
   "id": "3c61a6af",
   "metadata": {},
   "outputs": [],
   "source": [
    "## connect to a db\n",
    "conn = sqlite3.connect('database.db')\n",
    "\n",
    "create_table_command = \"\"\"\n",
    "CREATE TABLE IF NOT EXISTS HUD_Insured_Multifamily_Properties (\n",
    "    ID INTEGER PRIMARY KEY,\n",
    "    ROOMS INTEGER,\n",
    "    BATHROOMS INTEGER,\n",
    "    UNITS INTEGER,\n",
    "    STORIES INTEGER\n",
    ")\n",
    "\"\"\"\n",
    "\n",
    "# Function to execute the create table command\n",
    "def execute_create_table(conn):\n",
    "    conn.execute(create_table_command)\n",
    "    conn.commit()\n",
    "\n",
    "# Call the function to create the table\n",
    "execute_create_table(conn)\n"
   ]
  },
  {
   "cell_type": "code",
   "execution_count": 19,
   "id": "ba595c63",
   "metadata": {},
   "outputs": [
    {
     "ename": "SyntaxError",
     "evalue": "incomplete input (3683024685.py, line 3)",
     "output_type": "error",
     "traceback": [
      "\u001b[1;36m  Cell \u001b[1;32mIn[19], line 3\u001b[1;36m\u001b[0m\n\u001b[1;33m    insert_values = \"\"\"\u001b[0m\n\u001b[1;37m                    ^\u001b[0m\n\u001b[1;31mSyntaxError\u001b[0m\u001b[1;31m:\u001b[0m incomplete input\n"
     ]
    }
   ],
   "source": [
    "### insert values into the table\n",
    "\n",
    "insert_values = \"\"\"\n",
    "INSERT INTO HUD_Insured_Multifamily_Properties (ID, ROOMS, BATHROOMS, UNITS, STORIES)\n",
    "VALUES (?, ?, ?, ?, ?)"
   ]
  },
  {
   "cell_type": "code",
   "execution_count": 20,
   "id": "592a98c4",
   "metadata": {},
   "outputs": [],
   "source": [
    "### function to insert values based on the query above\n",
    "\n",
    "def insert_values(conn, values):\n",
    "    conn.execute(insert_values, values)\n",
    "    conn.commit()\n"
   ]
  },
  {
   "cell_type": "code",
   "execution_count": 21,
   "id": "34a7fd3b",
   "metadata": {},
   "outputs": [
    {
     "ename": "FileNotFoundError",
     "evalue": "[Errno 2] No such file or directory: 'input_data/clean/HUD_Insured_Multifamily_Properties_Cleaned.csv'",
     "output_type": "error",
     "traceback": [
      "\u001b[1;31m---------------------------------------------------------------------------\u001b[0m",
      "\u001b[1;31mFileNotFoundError\u001b[0m                         Traceback (most recent call last)",
      "Cell \u001b[1;32mIn[21], line 3\u001b[0m\n\u001b[0;32m      1\u001b[0m \u001b[38;5;66;03m### execute insert vvalues\u001b[39;00m\n\u001b[1;32m----> 3\u001b[0m insert_values(conn, pd\u001b[38;5;241m.\u001b[39mread_csv(\u001b[38;5;124m'\u001b[39m\u001b[38;5;124minput_data/clean/HUD_Insured_Multifamily_Properties_Cleaned.csv\u001b[39m\u001b[38;5;124m'\u001b[39m)) \n\u001b[0;32m      5\u001b[0m \u001b[38;5;66;03m# query the table\u001b[39;00m\n\u001b[0;32m      7\u001b[0m table \u001b[38;5;241m=\u001b[39m pd\u001b[38;5;241m.\u001b[39mread_sql_query(\u001b[38;5;124m\"\u001b[39m\u001b[38;5;124mSELECT * FROM HUD_Insured_Multifamily_Properties\u001b[39m\u001b[38;5;124m\"\u001b[39m, conn)\n",
      "File \u001b[1;32m~\\anaconda3\\Lib\\site-packages\\pandas\\io\\parsers\\readers.py:948\u001b[0m, in \u001b[0;36mread_csv\u001b[1;34m(filepath_or_buffer, sep, delimiter, header, names, index_col, usecols, dtype, engine, converters, true_values, false_values, skipinitialspace, skiprows, skipfooter, nrows, na_values, keep_default_na, na_filter, verbose, skip_blank_lines, parse_dates, infer_datetime_format, keep_date_col, date_parser, date_format, dayfirst, cache_dates, iterator, chunksize, compression, thousands, decimal, lineterminator, quotechar, quoting, doublequote, escapechar, comment, encoding, encoding_errors, dialect, on_bad_lines, delim_whitespace, low_memory, memory_map, float_precision, storage_options, dtype_backend)\u001b[0m\n\u001b[0;32m    935\u001b[0m kwds_defaults \u001b[38;5;241m=\u001b[39m _refine_defaults_read(\n\u001b[0;32m    936\u001b[0m     dialect,\n\u001b[0;32m    937\u001b[0m     delimiter,\n\u001b[1;32m   (...)\u001b[0m\n\u001b[0;32m    944\u001b[0m     dtype_backend\u001b[38;5;241m=\u001b[39mdtype_backend,\n\u001b[0;32m    945\u001b[0m )\n\u001b[0;32m    946\u001b[0m kwds\u001b[38;5;241m.\u001b[39mupdate(kwds_defaults)\n\u001b[1;32m--> 948\u001b[0m \u001b[38;5;28;01mreturn\u001b[39;00m _read(filepath_or_buffer, kwds)\n",
      "File \u001b[1;32m~\\anaconda3\\Lib\\site-packages\\pandas\\io\\parsers\\readers.py:611\u001b[0m, in \u001b[0;36m_read\u001b[1;34m(filepath_or_buffer, kwds)\u001b[0m\n\u001b[0;32m    608\u001b[0m _validate_names(kwds\u001b[38;5;241m.\u001b[39mget(\u001b[38;5;124m\"\u001b[39m\u001b[38;5;124mnames\u001b[39m\u001b[38;5;124m\"\u001b[39m, \u001b[38;5;28;01mNone\u001b[39;00m))\n\u001b[0;32m    610\u001b[0m \u001b[38;5;66;03m# Create the parser.\u001b[39;00m\n\u001b[1;32m--> 611\u001b[0m parser \u001b[38;5;241m=\u001b[39m TextFileReader(filepath_or_buffer, \u001b[38;5;241m*\u001b[39m\u001b[38;5;241m*\u001b[39mkwds)\n\u001b[0;32m    613\u001b[0m \u001b[38;5;28;01mif\u001b[39;00m chunksize \u001b[38;5;129;01mor\u001b[39;00m iterator:\n\u001b[0;32m    614\u001b[0m     \u001b[38;5;28;01mreturn\u001b[39;00m parser\n",
      "File \u001b[1;32m~\\anaconda3\\Lib\\site-packages\\pandas\\io\\parsers\\readers.py:1448\u001b[0m, in \u001b[0;36mTextFileReader.__init__\u001b[1;34m(self, f, engine, **kwds)\u001b[0m\n\u001b[0;32m   1445\u001b[0m     \u001b[38;5;28mself\u001b[39m\u001b[38;5;241m.\u001b[39moptions[\u001b[38;5;124m\"\u001b[39m\u001b[38;5;124mhas_index_names\u001b[39m\u001b[38;5;124m\"\u001b[39m] \u001b[38;5;241m=\u001b[39m kwds[\u001b[38;5;124m\"\u001b[39m\u001b[38;5;124mhas_index_names\u001b[39m\u001b[38;5;124m\"\u001b[39m]\n\u001b[0;32m   1447\u001b[0m \u001b[38;5;28mself\u001b[39m\u001b[38;5;241m.\u001b[39mhandles: IOHandles \u001b[38;5;241m|\u001b[39m \u001b[38;5;28;01mNone\u001b[39;00m \u001b[38;5;241m=\u001b[39m \u001b[38;5;28;01mNone\u001b[39;00m\n\u001b[1;32m-> 1448\u001b[0m \u001b[38;5;28mself\u001b[39m\u001b[38;5;241m.\u001b[39m_engine \u001b[38;5;241m=\u001b[39m \u001b[38;5;28mself\u001b[39m\u001b[38;5;241m.\u001b[39m_make_engine(f, \u001b[38;5;28mself\u001b[39m\u001b[38;5;241m.\u001b[39mengine)\n",
      "File \u001b[1;32m~\\anaconda3\\Lib\\site-packages\\pandas\\io\\parsers\\readers.py:1705\u001b[0m, in \u001b[0;36mTextFileReader._make_engine\u001b[1;34m(self, f, engine)\u001b[0m\n\u001b[0;32m   1703\u001b[0m     \u001b[38;5;28;01mif\u001b[39;00m \u001b[38;5;124m\"\u001b[39m\u001b[38;5;124mb\u001b[39m\u001b[38;5;124m\"\u001b[39m \u001b[38;5;129;01mnot\u001b[39;00m \u001b[38;5;129;01min\u001b[39;00m mode:\n\u001b[0;32m   1704\u001b[0m         mode \u001b[38;5;241m+\u001b[39m\u001b[38;5;241m=\u001b[39m \u001b[38;5;124m\"\u001b[39m\u001b[38;5;124mb\u001b[39m\u001b[38;5;124m\"\u001b[39m\n\u001b[1;32m-> 1705\u001b[0m \u001b[38;5;28mself\u001b[39m\u001b[38;5;241m.\u001b[39mhandles \u001b[38;5;241m=\u001b[39m get_handle(\n\u001b[0;32m   1706\u001b[0m     f,\n\u001b[0;32m   1707\u001b[0m     mode,\n\u001b[0;32m   1708\u001b[0m     encoding\u001b[38;5;241m=\u001b[39m\u001b[38;5;28mself\u001b[39m\u001b[38;5;241m.\u001b[39moptions\u001b[38;5;241m.\u001b[39mget(\u001b[38;5;124m\"\u001b[39m\u001b[38;5;124mencoding\u001b[39m\u001b[38;5;124m\"\u001b[39m, \u001b[38;5;28;01mNone\u001b[39;00m),\n\u001b[0;32m   1709\u001b[0m     compression\u001b[38;5;241m=\u001b[39m\u001b[38;5;28mself\u001b[39m\u001b[38;5;241m.\u001b[39moptions\u001b[38;5;241m.\u001b[39mget(\u001b[38;5;124m\"\u001b[39m\u001b[38;5;124mcompression\u001b[39m\u001b[38;5;124m\"\u001b[39m, \u001b[38;5;28;01mNone\u001b[39;00m),\n\u001b[0;32m   1710\u001b[0m     memory_map\u001b[38;5;241m=\u001b[39m\u001b[38;5;28mself\u001b[39m\u001b[38;5;241m.\u001b[39moptions\u001b[38;5;241m.\u001b[39mget(\u001b[38;5;124m\"\u001b[39m\u001b[38;5;124mmemory_map\u001b[39m\u001b[38;5;124m\"\u001b[39m, \u001b[38;5;28;01mFalse\u001b[39;00m),\n\u001b[0;32m   1711\u001b[0m     is_text\u001b[38;5;241m=\u001b[39mis_text,\n\u001b[0;32m   1712\u001b[0m     errors\u001b[38;5;241m=\u001b[39m\u001b[38;5;28mself\u001b[39m\u001b[38;5;241m.\u001b[39moptions\u001b[38;5;241m.\u001b[39mget(\u001b[38;5;124m\"\u001b[39m\u001b[38;5;124mencoding_errors\u001b[39m\u001b[38;5;124m\"\u001b[39m, \u001b[38;5;124m\"\u001b[39m\u001b[38;5;124mstrict\u001b[39m\u001b[38;5;124m\"\u001b[39m),\n\u001b[0;32m   1713\u001b[0m     storage_options\u001b[38;5;241m=\u001b[39m\u001b[38;5;28mself\u001b[39m\u001b[38;5;241m.\u001b[39moptions\u001b[38;5;241m.\u001b[39mget(\u001b[38;5;124m\"\u001b[39m\u001b[38;5;124mstorage_options\u001b[39m\u001b[38;5;124m\"\u001b[39m, \u001b[38;5;28;01mNone\u001b[39;00m),\n\u001b[0;32m   1714\u001b[0m )\n\u001b[0;32m   1715\u001b[0m \u001b[38;5;28;01massert\u001b[39;00m \u001b[38;5;28mself\u001b[39m\u001b[38;5;241m.\u001b[39mhandles \u001b[38;5;129;01mis\u001b[39;00m \u001b[38;5;129;01mnot\u001b[39;00m \u001b[38;5;28;01mNone\u001b[39;00m\n\u001b[0;32m   1716\u001b[0m f \u001b[38;5;241m=\u001b[39m \u001b[38;5;28mself\u001b[39m\u001b[38;5;241m.\u001b[39mhandles\u001b[38;5;241m.\u001b[39mhandle\n",
      "File \u001b[1;32m~\\anaconda3\\Lib\\site-packages\\pandas\\io\\common.py:863\u001b[0m, in \u001b[0;36mget_handle\u001b[1;34m(path_or_buf, mode, encoding, compression, memory_map, is_text, errors, storage_options)\u001b[0m\n\u001b[0;32m    858\u001b[0m \u001b[38;5;28;01melif\u001b[39;00m \u001b[38;5;28misinstance\u001b[39m(handle, \u001b[38;5;28mstr\u001b[39m):\n\u001b[0;32m    859\u001b[0m     \u001b[38;5;66;03m# Check whether the filename is to be opened in binary mode.\u001b[39;00m\n\u001b[0;32m    860\u001b[0m     \u001b[38;5;66;03m# Binary mode does not support 'encoding' and 'newline'.\u001b[39;00m\n\u001b[0;32m    861\u001b[0m     \u001b[38;5;28;01mif\u001b[39;00m ioargs\u001b[38;5;241m.\u001b[39mencoding \u001b[38;5;129;01mand\u001b[39;00m \u001b[38;5;124m\"\u001b[39m\u001b[38;5;124mb\u001b[39m\u001b[38;5;124m\"\u001b[39m \u001b[38;5;129;01mnot\u001b[39;00m \u001b[38;5;129;01min\u001b[39;00m ioargs\u001b[38;5;241m.\u001b[39mmode:\n\u001b[0;32m    862\u001b[0m         \u001b[38;5;66;03m# Encoding\u001b[39;00m\n\u001b[1;32m--> 863\u001b[0m         handle \u001b[38;5;241m=\u001b[39m \u001b[38;5;28mopen\u001b[39m(\n\u001b[0;32m    864\u001b[0m             handle,\n\u001b[0;32m    865\u001b[0m             ioargs\u001b[38;5;241m.\u001b[39mmode,\n\u001b[0;32m    866\u001b[0m             encoding\u001b[38;5;241m=\u001b[39mioargs\u001b[38;5;241m.\u001b[39mencoding,\n\u001b[0;32m    867\u001b[0m             errors\u001b[38;5;241m=\u001b[39merrors,\n\u001b[0;32m    868\u001b[0m             newline\u001b[38;5;241m=\u001b[39m\u001b[38;5;124m\"\u001b[39m\u001b[38;5;124m\"\u001b[39m,\n\u001b[0;32m    869\u001b[0m         )\n\u001b[0;32m    870\u001b[0m     \u001b[38;5;28;01melse\u001b[39;00m:\n\u001b[0;32m    871\u001b[0m         \u001b[38;5;66;03m# Binary mode\u001b[39;00m\n\u001b[0;32m    872\u001b[0m         handle \u001b[38;5;241m=\u001b[39m \u001b[38;5;28mopen\u001b[39m(handle, ioargs\u001b[38;5;241m.\u001b[39mmode)\n",
      "\u001b[1;31mFileNotFoundError\u001b[0m: [Errno 2] No such file or directory: 'input_data/clean/HUD_Insured_Multifamily_Properties_Cleaned.csv'"
     ]
    }
   ],
   "source": [
    "### execute insert values\n",
    "\n",
    "insert_values(conn, pd.read_csv('input_data/clean/HUD_Insured_Multifamily_Properties_Cleaned.csv')) \n",
    "\n",
    "# query the table\n",
    "\n",
    "table = pd.read_sql_query(\"SELECT * FROM HUD_Insured_Multifamily_Properties\", conn)\n"
   ]
  },
  {
   "cell_type": "code",
   "execution_count": 22,
   "id": "4f8428ee",
   "metadata": {},
   "outputs": [],
   "source": [
    "### answer the questions\n",
    "questions = [\n",
    "    \"What is the average number of rooms per property?\",\n",
    "    \"What is the average number of bathrooms per property?\",\n",
    "    \"What is the average number of units per property?\",\n",
    "    \"What is the average number of stories per property?\",\n",
    "    \"What is the average number of units per property?\",\n",
    "]"
   ]
  },
  {
   "cell_type": "code",
   "execution_count": 23,
   "id": "1e95b877",
   "metadata": {},
   "outputs": [],
   "source": [
    "#blank array with answers to the questions ^\n",
    "answers = []\n",
    "\n",
    "# \"What is the average number of rooms per property?\",\n",
    "query_1 = \"\"\"\n",
    "SELECT AVG(ROOMS) FROM HUD_Insured_Multifamily_Properties\n",
    "\"\"\""
   ]
  },
  {
   "cell_type": "code",
   "execution_count": 24,
   "id": "64c06c04",
   "metadata": {},
   "outputs": [],
   "source": [
    "answers.append(conn.execute(query_1).fetchone()[0])"
   ]
  },
  {
   "cell_type": "code",
   "execution_count": 25,
   "id": "4a4fcf2d",
   "metadata": {},
   "outputs": [],
   "source": [
    "### what is the average number of bathrooms per property?\n",
    "query_2 = \"\"\"\n",
    "SELECT AVG(BATHROOMS) FROM HUD_Insured_Multifamily_Properties\n",
    "\"\"\"\n",
    "\n",
    "answers.append(conn.execute(query_2).fetchone()[0])\n"
   ]
  },
  {
   "cell_type": "code",
   "execution_count": 26,
   "id": "2de6f23f",
   "metadata": {},
   "outputs": [
    {
     "ename": "ValueError",
     "evalue": "All arrays must be of the same length",
     "output_type": "error",
     "traceback": [
      "\u001b[1;31m---------------------------------------------------------------------------\u001b[0m",
      "\u001b[1;31mValueError\u001b[0m                                Traceback (most recent call last)",
      "Cell \u001b[1;32mIn[26], line 3\u001b[0m\n\u001b[0;32m      1\u001b[0m \u001b[38;5;66;03m### create dataframe from questions and answers\u001b[39;00m\n\u001b[1;32m----> 3\u001b[0m querys_and_answers \u001b[38;5;241m=\u001b[39m pd\u001b[38;5;241m.\u001b[39mDataFrame({\n\u001b[0;32m      4\u001b[0m     \u001b[38;5;124m\"\u001b[39m\u001b[38;5;124mQuestions\u001b[39m\u001b[38;5;124m\"\u001b[39m: questions,\n\u001b[0;32m      5\u001b[0m     \u001b[38;5;124m\"\u001b[39m\u001b[38;5;124mAnswers\u001b[39m\u001b[38;5;124m\"\u001b[39m: answers\n\u001b[0;32m      6\u001b[0m })\n\u001b[0;32m      8\u001b[0m querys_and_answers\u001b[38;5;241m.\u001b[39mto_csv(\u001b[38;5;124m'\u001b[39m\u001b[38;5;124moutput/Questions_and_Answers.csv\u001b[39m\u001b[38;5;124m'\u001b[39m, index\u001b[38;5;241m=\u001b[39m\u001b[38;5;28;01mFalse\u001b[39;00m)\n",
      "File \u001b[1;32m~\\anaconda3\\Lib\\site-packages\\pandas\\core\\frame.py:733\u001b[0m, in \u001b[0;36mDataFrame.__init__\u001b[1;34m(self, data, index, columns, dtype, copy)\u001b[0m\n\u001b[0;32m    727\u001b[0m     mgr \u001b[38;5;241m=\u001b[39m \u001b[38;5;28mself\u001b[39m\u001b[38;5;241m.\u001b[39m_init_mgr(\n\u001b[0;32m    728\u001b[0m         data, axes\u001b[38;5;241m=\u001b[39m{\u001b[38;5;124m\"\u001b[39m\u001b[38;5;124mindex\u001b[39m\u001b[38;5;124m\"\u001b[39m: index, \u001b[38;5;124m\"\u001b[39m\u001b[38;5;124mcolumns\u001b[39m\u001b[38;5;124m\"\u001b[39m: columns}, dtype\u001b[38;5;241m=\u001b[39mdtype, copy\u001b[38;5;241m=\u001b[39mcopy\n\u001b[0;32m    729\u001b[0m     )\n\u001b[0;32m    731\u001b[0m \u001b[38;5;28;01melif\u001b[39;00m \u001b[38;5;28misinstance\u001b[39m(data, \u001b[38;5;28mdict\u001b[39m):\n\u001b[0;32m    732\u001b[0m     \u001b[38;5;66;03m# GH#38939 de facto copy defaults to False only in non-dict cases\u001b[39;00m\n\u001b[1;32m--> 733\u001b[0m     mgr \u001b[38;5;241m=\u001b[39m dict_to_mgr(data, index, columns, dtype\u001b[38;5;241m=\u001b[39mdtype, copy\u001b[38;5;241m=\u001b[39mcopy, typ\u001b[38;5;241m=\u001b[39mmanager)\n\u001b[0;32m    734\u001b[0m \u001b[38;5;28;01melif\u001b[39;00m \u001b[38;5;28misinstance\u001b[39m(data, ma\u001b[38;5;241m.\u001b[39mMaskedArray):\n\u001b[0;32m    735\u001b[0m     \u001b[38;5;28;01mfrom\u001b[39;00m \u001b[38;5;21;01mnumpy\u001b[39;00m\u001b[38;5;21;01m.\u001b[39;00m\u001b[38;5;21;01mma\u001b[39;00m \u001b[38;5;28;01mimport\u001b[39;00m mrecords\n",
      "File \u001b[1;32m~\\anaconda3\\Lib\\site-packages\\pandas\\core\\internals\\construction.py:503\u001b[0m, in \u001b[0;36mdict_to_mgr\u001b[1;34m(data, index, columns, dtype, typ, copy)\u001b[0m\n\u001b[0;32m    499\u001b[0m     \u001b[38;5;28;01melse\u001b[39;00m:\n\u001b[0;32m    500\u001b[0m         \u001b[38;5;66;03m# dtype check to exclude e.g. range objects, scalars\u001b[39;00m\n\u001b[0;32m    501\u001b[0m         arrays \u001b[38;5;241m=\u001b[39m [x\u001b[38;5;241m.\u001b[39mcopy() \u001b[38;5;28;01mif\u001b[39;00m \u001b[38;5;28mhasattr\u001b[39m(x, \u001b[38;5;124m\"\u001b[39m\u001b[38;5;124mdtype\u001b[39m\u001b[38;5;124m\"\u001b[39m) \u001b[38;5;28;01melse\u001b[39;00m x \u001b[38;5;28;01mfor\u001b[39;00m x \u001b[38;5;129;01min\u001b[39;00m arrays]\n\u001b[1;32m--> 503\u001b[0m \u001b[38;5;28;01mreturn\u001b[39;00m arrays_to_mgr(arrays, columns, index, dtype\u001b[38;5;241m=\u001b[39mdtype, typ\u001b[38;5;241m=\u001b[39mtyp, consolidate\u001b[38;5;241m=\u001b[39mcopy)\n",
      "File \u001b[1;32m~\\anaconda3\\Lib\\site-packages\\pandas\\core\\internals\\construction.py:114\u001b[0m, in \u001b[0;36marrays_to_mgr\u001b[1;34m(arrays, columns, index, dtype, verify_integrity, typ, consolidate)\u001b[0m\n\u001b[0;32m    111\u001b[0m \u001b[38;5;28;01mif\u001b[39;00m verify_integrity:\n\u001b[0;32m    112\u001b[0m     \u001b[38;5;66;03m# figure out the index, if necessary\u001b[39;00m\n\u001b[0;32m    113\u001b[0m     \u001b[38;5;28;01mif\u001b[39;00m index \u001b[38;5;129;01mis\u001b[39;00m \u001b[38;5;28;01mNone\u001b[39;00m:\n\u001b[1;32m--> 114\u001b[0m         index \u001b[38;5;241m=\u001b[39m _extract_index(arrays)\n\u001b[0;32m    115\u001b[0m     \u001b[38;5;28;01melse\u001b[39;00m:\n\u001b[0;32m    116\u001b[0m         index \u001b[38;5;241m=\u001b[39m ensure_index(index)\n",
      "File \u001b[1;32m~\\anaconda3\\Lib\\site-packages\\pandas\\core\\internals\\construction.py:677\u001b[0m, in \u001b[0;36m_extract_index\u001b[1;34m(data)\u001b[0m\n\u001b[0;32m    675\u001b[0m lengths \u001b[38;5;241m=\u001b[39m \u001b[38;5;28mlist\u001b[39m(\u001b[38;5;28mset\u001b[39m(raw_lengths))\n\u001b[0;32m    676\u001b[0m \u001b[38;5;28;01mif\u001b[39;00m \u001b[38;5;28mlen\u001b[39m(lengths) \u001b[38;5;241m>\u001b[39m \u001b[38;5;241m1\u001b[39m:\n\u001b[1;32m--> 677\u001b[0m     \u001b[38;5;28;01mraise\u001b[39;00m \u001b[38;5;167;01mValueError\u001b[39;00m(\u001b[38;5;124m\"\u001b[39m\u001b[38;5;124mAll arrays must be of the same length\u001b[39m\u001b[38;5;124m\"\u001b[39m)\n\u001b[0;32m    679\u001b[0m \u001b[38;5;28;01mif\u001b[39;00m have_dicts:\n\u001b[0;32m    680\u001b[0m     \u001b[38;5;28;01mraise\u001b[39;00m \u001b[38;5;167;01mValueError\u001b[39;00m(\n\u001b[0;32m    681\u001b[0m         \u001b[38;5;124m\"\u001b[39m\u001b[38;5;124mMixing dicts with non-Series may lead to ambiguous ordering.\u001b[39m\u001b[38;5;124m\"\u001b[39m\n\u001b[0;32m    682\u001b[0m     )\n",
      "\u001b[1;31mValueError\u001b[0m: All arrays must be of the same length"
     ]
    }
   ],
   "source": [
    "### create dataframe from questions and answers\n",
    "\n",
    "querys_and_answers = pd.DataFrame({\n",
    "    \"Questions\": questions,\n",
    "    \"Answers\": answers\n",
    "})\n",
    "\n",
    "querys_and_answers.to_csv('output/Questions_and_Answers.csv', index=False)\n"
   ]
  },
  {
   "cell_type": "code",
   "execution_count": null,
   "id": "3ec0a1fe",
   "metadata": {},
   "outputs": [],
   "source": []
  }
 ],
 "metadata": {
  "kernelspec": {
   "display_name": "Python 3 (ipykernel)",
   "language": "python",
   "name": "python3"
  },
  "language_info": {
   "codemirror_mode": {
    "name": "ipython",
    "version": 3
   },
   "file_extension": ".py",
   "mimetype": "text/x-python",
   "name": "python",
   "nbconvert_exporter": "python",
   "pygments_lexer": "ipython3",
   "version": "3.11.7"
  }
 },
 "nbformat": 4,
 "nbformat_minor": 5
}
